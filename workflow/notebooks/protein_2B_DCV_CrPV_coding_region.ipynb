{
 "cells": [
  {
   "cell_type": "code",
   "execution_count": 128,
   "id": "5fde0df3",
   "metadata": {},
   "outputs": [],
   "source": [
    "import pandas as pd\n",
    "import seaborn as sns\n",
    "import matplotlib.pyplot as plt"
   ]
  },
  {
   "cell_type": "code",
   "execution_count": 129,
   "id": "efd11f9b",
   "metadata": {},
   "outputs": [],
   "source": [
    "our_color_palette = {\"WT\": \"#F2C14E\", # yellow\n",
    "                     \"W\": \"#F2C14E\", # yellow\n",
    "                     \"IP\": \"#79ADDC\", # blue\n",
    "                     \"I\": \"#79ADDC\", # blue\n",
    "                     \"KO\": \"#B279A7\", # purple\n",
    "                     \"K\": \"#B279A7\", # purple\n",
    "                    } \n",
    "treatments_list = [\"W\", \"I\", \"K\"]\n",
    "passages_list = [\"p1\", \"p2\", \"p3\", \"p5\", \"p10\"]\n",
    "replicates_list = ['a', 'b', 'c']"
   ]
  },
  {
   "cell_type": "code",
   "execution_count": 130,
   "id": "240b59f1",
   "metadata": {},
   "outputs": [],
   "source": [
    "# define protein \n",
    "\n",
    "proteins = {'DCV' : {\n",
    "    \"1A\": (799, 1089),\n",
    "    \"2A\": (1092, 1161),\n",
    "    \"2B\": (1164, 1587),\n",
    "    \"2C\": (1590, 2901),\n",
    "    \"3A\": (2904, 3501),\n",
    "    \"3C\": (3504, 4422),\n",
    "    \"RdRp\": (4425, 6072),\n",
    "    \"VP2\": (6267, 7110),\n",
    "    \"VP4\": (7113, 7281),\n",
    "    \"VP3\": (7284, 8175),\n",
    "    \"VP1\": (8175, 8970),\n",
    "}, \n",
    "            'CrPV': {\n",
    "    \"1A\": (709, 1206),\n",
    "    \"2A\": (1207, 1278),\n",
    "    \"2B\": (1279, 1692),\n",
    "    \"2C\": (1693, 2925),\n",
    "    \"3A\": (2926, 3361),\n",
    "    \"3B\": (3364, 3432),\n",
    "    \"3C\": (3433, 4368),\n",
    "    \"RdRp\": (4369, 6022),\n",
    "    \"VP1\": (6217, 7065),\n",
    "    \"VP4\": (7066, 7236),\n",
    "    \"VP2\": (7237, 8121),\n",
    "    \"VP3\": (8122, 8902),\n",
    "}\n",
    "           }"
   ]
  },
  {
   "cell_type": "code",
   "execution_count": 131,
   "id": "e10d4132",
   "metadata": {},
   "outputs": [
    {
     "data": {
      "text/plain": [
       "0.050408885634077874"
      ]
     },
     "execution_count": 131,
     "metadata": {},
     "output_type": "execute_result"
    }
   ],
   "source": [
    "length_crpv = 9185\n",
    "length_coding = 8902 - 709\n",
    "protein_2B = proteins['CrPV']['2B'][1] - proteins['CrPV']['2B'][0]\n",
    "protein_2B/length_coding"
   ]
  },
  {
   "cell_type": "code",
   "execution_count": 132,
   "id": "85e66fee",
   "metadata": {},
   "outputs": [],
   "source": [
    "# load diveristy \n",
    "\n",
    "fname = \"../../results_summary/all_snpgenie_site_results.csv\"\n",
    "df = pd.read_csv(fname)"
   ]
  },
  {
   "cell_type": "code",
   "execution_count": 133,
   "id": "2954f611",
   "metadata": {},
   "outputs": [],
   "source": [
    "df_pi = pd.DataFrame() \n",
    "\n",
    "length_crpv = 9185\n",
    "\n",
    "for sample in df['passage'].unique():\n",
    "    df_temp = df[df['virus']== \"CrPV\"]\n",
    "    df_temp = df_temp[df_temp['passage']==sample]\n",
    "    protein_length = 1692 - 1279\n",
    "    \n",
    "    avg_pi_2B = df_temp[df_temp['site'].isin(list(range(1279,1692+1)))]['pi'].sum()/protein_length\n",
    "    \n",
    "    mean_pis = {'sample': sample,\n",
    "                'genome_region': [\"CrPV-2B\"],\n",
    "                'avg_pi': avg_pi_2B, \n",
    "                    }\n",
    "    df_pi = pd.concat([pd.DataFrame(mean_pis),df_pi], ignore_index=True)\n",
    "    \n",
    "    # remaining regions only coding\n",
    "    lenght = (1278 - 709) + (8902 - 1693)\n",
    "    sum_pi = df_temp[df_temp['site'].isin(list(range(709,1278+1)))]['pi'].sum()\n",
    "    sum_pi += df_temp[df_temp['site'].isin(list(range(1693,8902+1)))]['pi'].sum()\n",
    "    \n",
    "    mean_pis = {'sample': sample,\n",
    "                'genome_region': [\"CrPVcoding-2B\"],\n",
    "                'avg_pi': sum_pi/lenght, \n",
    "                    }\n",
    "    df_pi = pd.concat([pd.DataFrame(mean_pis),df_pi], ignore_index=True)\n",
    "    \n",
    "    # remaining regions full genome\n",
    "    #lenght = length_crpv - protein_length\n",
    "    #sum_pi = df_temp[df_temp['site'].isin(list(range(1,1278+1)))]['pi'].sum()\n",
    "    #sum_pi += df_temp[df_temp['site'].isin(list(range(1693,length_crpv)))]['pi'].sum()\n",
    "    \n",
    "    #mean_pis = {'sample': sample,\n",
    "    #            'genome_region': [\"~2B-fullgenome\"],\n",
    "    #            'avg_pi': sum_pi/lenght, \n",
    "    #                }\n",
    "    #df_pi = pd.concat([pd.DataFrame(mean_pis),df_pi], ignore_index=True)\n",
    "    \n",
    "df_pi['virus'] = 'CrPV'  "
   ]
  },
  {
   "cell_type": "code",
   "execution_count": 134,
   "id": "2fff735c",
   "metadata": {},
   "outputs": [],
   "source": [
    "## now add values of DCV\n",
    "# define protein \n",
    "\n",
    "proteins = {'DCV' : {\n",
    "    \"2B\": (1164, 1587),\n",
    "}, \n",
    "            'CrPV': {\n",
    "    \"2B\": (1279, 1692),\n",
    "}\n",
    "           }\n",
    "\n",
    "# load diveristy \n",
    "\n",
    "fname = \"../../results_summary/all_snpgenie_site_results.csv\"\n",
    "df = pd.read_csv(fname)\n",
    "\n",
    "# exclude parental \n",
    "\n",
    "df = df[df['passage']!='parental_p0']\n",
    "\n",
    "df_pi_dcv = pd.DataFrame() \n",
    "\n",
    "\n",
    "for sample in df['passage'].unique():\n",
    "    df_temp = df[df['virus']== \"DCV\"]\n",
    "    df_temp = df_temp[df_temp['passage']==sample]\n",
    "    \n",
    "    avg_pi_2B = df_temp[df_temp['site'].isin(list(range(1279,1692+1)))]['pi'].sum()/protein_2B\n",
    "    \n",
    "    mean_pis = {'sample': sample,\n",
    "                'genome_region': [\"DCV-2B\"],\n",
    "                'avg_pi': avg_pi_2B, \n",
    "                    }\n",
    "    df_pi_dcv = pd.concat([pd.DataFrame(mean_pis),df_pi_dcv], ignore_index=True)\n",
    "    \n",
    "    # remaining regions only coding\n",
    "    lenght = length_coding - protein_2B\n",
    "    sum_pi = df_temp[df_temp['site'].isin(list(range(709,1278+1)))]['pi'].sum()\n",
    "    sum_pi += df_temp[df_temp['site'].isin(list(range(1693,8902+1)))]['pi'].sum()\n",
    "    \n",
    "    mean_pis = {'sample': sample,\n",
    "                'genome_region': [\"DCVcoding-2B\"],\n",
    "                'avg_pi': sum_pi/lenght, \n",
    "                    }\n",
    "    df_pi_dcv = pd.concat([pd.DataFrame(mean_pis),df_pi_dcv], ignore_index=True)\n",
    "             \n",
    "df_pi_dcv['virus']='DCV'"
   ]
  },
  {
   "cell_type": "code",
   "execution_count": 135,
   "id": "54f71220",
   "metadata": {},
   "outputs": [
    {
     "data": {
      "text/html": [
       "<div>\n",
       "<style scoped>\n",
       "    .dataframe tbody tr th:only-of-type {\n",
       "        vertical-align: middle;\n",
       "    }\n",
       "\n",
       "    .dataframe tbody tr th {\n",
       "        vertical-align: top;\n",
       "    }\n",
       "\n",
       "    .dataframe thead th {\n",
       "        text-align: right;\n",
       "    }\n",
       "</style>\n",
       "<table border=\"1\" class=\"dataframe\">\n",
       "  <thead>\n",
       "    <tr style=\"text-align: right;\">\n",
       "      <th></th>\n",
       "      <th>sample</th>\n",
       "      <th>genome_region</th>\n",
       "      <th>avg_pi</th>\n",
       "      <th>virus</th>\n",
       "    </tr>\n",
       "  </thead>\n",
       "  <tbody>\n",
       "    <tr>\n",
       "      <th>0</th>\n",
       "      <td>W_p10_c</td>\n",
       "      <td>DCVcoding-2B</td>\n",
       "      <td>0.000000</td>\n",
       "      <td>DCV</td>\n",
       "    </tr>\n",
       "    <tr>\n",
       "      <th>1</th>\n",
       "      <td>W_p10_c</td>\n",
       "      <td>DCV-2B</td>\n",
       "      <td>0.000000</td>\n",
       "      <td>DCV</td>\n",
       "    </tr>\n",
       "    <tr>\n",
       "      <th>2</th>\n",
       "      <td>W_p5_c</td>\n",
       "      <td>DCVcoding-2B</td>\n",
       "      <td>0.000207</td>\n",
       "      <td>DCV</td>\n",
       "    </tr>\n",
       "    <tr>\n",
       "      <th>3</th>\n",
       "      <td>W_p5_c</td>\n",
       "      <td>DCV-2B</td>\n",
       "      <td>0.000173</td>\n",
       "      <td>DCV</td>\n",
       "    </tr>\n",
       "    <tr>\n",
       "      <th>4</th>\n",
       "      <td>W_p5_b</td>\n",
       "      <td>DCVcoding-2B</td>\n",
       "      <td>0.000218</td>\n",
       "      <td>DCV</td>\n",
       "    </tr>\n",
       "  </tbody>\n",
       "</table>\n",
       "</div>"
      ],
      "text/plain": [
       "    sample genome_region    avg_pi virus\n",
       "0  W_p10_c  DCVcoding-2B  0.000000   DCV\n",
       "1  W_p10_c        DCV-2B  0.000000   DCV\n",
       "2   W_p5_c  DCVcoding-2B  0.000207   DCV\n",
       "3   W_p5_c        DCV-2B  0.000173   DCV\n",
       "4   W_p5_b  DCVcoding-2B  0.000218   DCV"
      ]
     },
     "execution_count": 135,
     "metadata": {},
     "output_type": "execute_result"
    }
   ],
   "source": [
    "# merge \n",
    "\n",
    "df = pd.concat([df_pi_dcv, df_pi])\n",
    "df = df[~(df['sample'].str.startswith('parental') )]\n",
    "\n",
    "df.head()"
   ]
  },
  {
   "cell_type": "code",
   "execution_count": 136,
   "id": "7120d63d",
   "metadata": {},
   "outputs": [],
   "source": [
    "df['genotype'] = df['virus']+df['sample'].str.split('_').str[0]\n",
    "df['evo_line'] = df['genotype']+df['sample'].str.split('_').str[-1]"
   ]
  },
  {
   "cell_type": "code",
   "execution_count": 137,
   "id": "2f86380e",
   "metadata": {},
   "outputs": [
    {
     "data": {
      "text/html": [
       "<div>\n",
       "<style scoped>\n",
       "    .dataframe tbody tr th:only-of-type {\n",
       "        vertical-align: middle;\n",
       "    }\n",
       "\n",
       "    .dataframe tbody tr th {\n",
       "        vertical-align: top;\n",
       "    }\n",
       "\n",
       "    .dataframe thead th {\n",
       "        text-align: right;\n",
       "    }\n",
       "</style>\n",
       "<table border=\"1\" class=\"dataframe\">\n",
       "  <thead>\n",
       "    <tr style=\"text-align: right;\">\n",
       "      <th></th>\n",
       "      <th>sample</th>\n",
       "      <th>genome_region</th>\n",
       "      <th>avg_pi</th>\n",
       "      <th>virus</th>\n",
       "      <th>genotype</th>\n",
       "      <th>evo_line</th>\n",
       "    </tr>\n",
       "  </thead>\n",
       "  <tbody>\n",
       "    <tr>\n",
       "      <th>0</th>\n",
       "      <td>W_p10_c</td>\n",
       "      <td>DCVcoding-2B</td>\n",
       "      <td>0.000000</td>\n",
       "      <td>DCV</td>\n",
       "      <td>DCVW</td>\n",
       "      <td>DCVWc</td>\n",
       "    </tr>\n",
       "    <tr>\n",
       "      <th>1</th>\n",
       "      <td>W_p10_c</td>\n",
       "      <td>DCV-2B</td>\n",
       "      <td>0.000000</td>\n",
       "      <td>DCV</td>\n",
       "      <td>DCVW</td>\n",
       "      <td>DCVWc</td>\n",
       "    </tr>\n",
       "    <tr>\n",
       "      <th>2</th>\n",
       "      <td>W_p5_c</td>\n",
       "      <td>DCVcoding-2B</td>\n",
       "      <td>0.000207</td>\n",
       "      <td>DCV</td>\n",
       "      <td>DCVW</td>\n",
       "      <td>DCVWc</td>\n",
       "    </tr>\n",
       "    <tr>\n",
       "      <th>3</th>\n",
       "      <td>W_p5_c</td>\n",
       "      <td>DCV-2B</td>\n",
       "      <td>0.000173</td>\n",
       "      <td>DCV</td>\n",
       "      <td>DCVW</td>\n",
       "      <td>DCVWc</td>\n",
       "    </tr>\n",
       "    <tr>\n",
       "      <th>4</th>\n",
       "      <td>W_p5_b</td>\n",
       "      <td>DCVcoding-2B</td>\n",
       "      <td>0.000218</td>\n",
       "      <td>DCV</td>\n",
       "      <td>DCVW</td>\n",
       "      <td>DCVWb</td>\n",
       "    </tr>\n",
       "  </tbody>\n",
       "</table>\n",
       "</div>"
      ],
      "text/plain": [
       "    sample genome_region    avg_pi virus genotype evo_line\n",
       "0  W_p10_c  DCVcoding-2B  0.000000   DCV     DCVW    DCVWc\n",
       "1  W_p10_c        DCV-2B  0.000000   DCV     DCVW    DCVWc\n",
       "2   W_p5_c  DCVcoding-2B  0.000207   DCV     DCVW    DCVWc\n",
       "3   W_p5_c        DCV-2B  0.000173   DCV     DCVW    DCVWc\n",
       "4   W_p5_b  DCVcoding-2B  0.000218   DCV     DCVW    DCVWb"
      ]
     },
     "execution_count": 137,
     "metadata": {},
     "output_type": "execute_result"
    }
   ],
   "source": [
    "df.head()"
   ]
  },
  {
   "cell_type": "code",
   "execution_count": 138,
   "id": "67720ac4",
   "metadata": {},
   "outputs": [
    {
     "data": {
      "text/plain": [
       "(180, 6)"
      ]
     },
     "execution_count": 138,
     "metadata": {},
     "output_type": "execute_result"
    }
   ],
   "source": [
    "df.shape"
   ]
  },
  {
   "cell_type": "code",
   "execution_count": 139,
   "id": "c5cffd6f",
   "metadata": {},
   "outputs": [],
   "source": [
    "# take mean over passage\n",
    "\n",
    "df_pi_summary = df[\n",
    "    ['genome_region', 'virus', 'avg_pi', 'evo_line', 'genotype']\n",
    "].groupby(by=['genome_region', 'virus', 'evo_line', 'genotype']).mean().reset_index()"
   ]
  },
  {
   "cell_type": "code",
   "execution_count": 140,
   "id": "59cfef8a",
   "metadata": {},
   "outputs": [
    {
     "data": {
      "text/plain": [
       "(36, 5)"
      ]
     },
     "execution_count": 140,
     "metadata": {},
     "output_type": "execute_result"
    }
   ],
   "source": [
    "df_pi_summary.shape"
   ]
  },
  {
   "cell_type": "code",
   "execution_count": 141,
   "id": "c6a5b0ef",
   "metadata": {},
   "outputs": [],
   "source": [
    "df_pi_summary['GT'] = df_pi_summary['genotype'].str[-1]"
   ]
  },
  {
   "cell_type": "code",
   "execution_count": 142,
   "id": "f7dcd317",
   "metadata": {},
   "outputs": [
    {
     "name": "stderr",
     "output_type": "stream",
     "text": [
      "/var/folders/dw/8dl4p6h53cgcmk6cf_09v5f40000gr/T/ipykernel_72597/2293647822.py:4: FutureWarning: \n",
      "\n",
      "The `errwidth` parameter is deprecated. And will be removed in v0.15.0. Pass `err_kws={'linewidth': 1.1}` instead.\n",
      "\n",
      "  g = sns.catplot(df_pi_summary,\n"
     ]
    },
    {
     "data": {
      "image/png": "[encoded data removed]",
      "text/plain": [
       "<Figure size 360x360 with 1 Axes>"
      ]
     },
     "metadata": {},
     "output_type": "display_data"
    }
   ],
   "source": [
    "sns.set_style('white')\n",
    "\n",
    "\n",
    "g = sns.catplot(df_pi_summary, \n",
    "                y='avg_pi',\n",
    "                hue='GT', \n",
    "                x='genome_region', \n",
    "                order=['CrPV-2B', 'CrPVcoding-2B', 'DCV-2B', 'DCVcoding-2B'],\n",
    "                palette=our_color_palette, \n",
    "                errorbar=\"se\",\n",
    "                linestyle='',\n",
    "                errwidth=1.1, \n",
    "                dodge=0.4,\n",
    "                capsize=0.1,\n",
    "                legend =False, \n",
    "                kind='point')\n",
    "# Add log scale to y-axis\n",
    "#g.set(yscale=\"log\")\n",
    "\n",
    "# Improved Y-axis Ticks and Labels\n",
    "#yticks = [1e-4,2e-4,3e-4,4e-4, 5e-4, 1e-3]  # Define your desired y-tick positions\n",
    "#yticklabels = [1e-4,2e-4,3e-4,4e-4, 5e-4, 1e-3] # [r'$10^{-4}$', r'$5 \\cdot 10^{-4}$', r'$10^{-3}$']  # Corresponding labels\n",
    "\n",
    "#plt.yticks(yticks, yticklabels)\n",
    "plt.ylabel('avg_pi', rotation=0, ha='right')  # Rotate y-axis label\n",
    "\n",
    "# Explicitly enable and style y-axis ticks\n",
    "ax = g.axes[0, 0]  # Access the axes object\n",
    "ax.tick_params(axis='y', which='both', direction='out', length=6, color='black', width=1)  # Customize the ticks\n",
    "\n",
    "# X-axis label rotation\n",
    "g.set_xticklabels(rotation=-60)\n",
    "\n",
    "# Adjust layout to prevent labels from overlapping\n",
    "plt.tight_layout()\n",
    "\n",
    "plt.show()\n",
    "\n",
    "g.figure.savefig(f\"/Users/lfuhrmann/Downloads/diversity_2B.pdf\")"
   ]
  },
  {
   "cell_type": "code",
   "execution_count": 143,
   "id": "432f3966",
   "metadata": {},
   "outputs": [],
   "source": [
    "def f_genome_region(x):\n",
    "    if x == 'CrPV-2B':\n",
    "        return '2B'\n",
    "    elif x == 'DCV-2B':\n",
    "        return '2B'\n",
    "    elif x == 'CrPVcoding-2B':\n",
    "        return 'coding-2B'\n",
    "    elif x == 'DCVcoding-2B':\n",
    "        return 'coding-2B'\n",
    "\n",
    "df_pi_summary['genome_region'] = df_pi_summary['genome_region'].apply(f_genome_region)"
   ]
  },
  {
   "cell_type": "code",
   "execution_count": 144,
   "id": "69f92b1c",
   "metadata": {},
   "outputs": [],
   "source": [
    "#df_pi_summary = df_pi_summary[['genome_region', 'virus', 'avg_pi', 'evo_line', 'genotype']]"
   ]
  },
  {
   "cell_type": "code",
   "execution_count": 145,
   "id": "99be93a9",
   "metadata": {},
   "outputs": [],
   "source": [
    "import numpy as np\n",
    "df_pi_summary['log_pi'] = np.log(df_pi_summary['avg_pi'])"
   ]
  },
  {
   "cell_type": "code",
   "execution_count": 146,
   "id": "e2a1c165",
   "metadata": {},
   "outputs": [
    {
     "name": "stdout",
     "output_type": "stream",
     "text": [
      "The rpy2.ipython extension is already loaded. To reload it, use:\n",
      "  %reload_ext rpy2.ipython\n"
     ]
    }
   ],
   "source": [
    "%load_ext rpy2.ipython"
   ]
  },
  {
   "cell_type": "markdown",
   "id": "ad42bb6e",
   "metadata": {},
   "source": [
    "## take mean over passage"
   ]
  },
  {
   "cell_type": "code",
   "execution_count": 147,
   "id": "4b1f7821",
   "metadata": {},
   "outputs": [
    {
     "name": "stdout",
     "output_type": "stream",
     "text": [
      "Linear mixed model fit by REML. t-tests use Satterthwaite's method [\n",
      "lmerModLmerTest]\n",
      "Formula: log_pi ~ virus * genome_region + (1 | evo_line) + GT\n",
      "   Data: df_pi_summary\n",
      "\n",
      "REML criterion at convergence: 27.6\n",
      "\n",
      "Scaled residuals: \n",
      "    Min      1Q  Median      3Q     Max \n",
      "-2.6700 -0.4405  0.1464  0.4625  1.7434 \n",
      "\n",
      "Random effects:\n",
      " Groups   Name        Variance Std.Dev.\n",
      " evo_line (Intercept) 0.005858 0.07654 \n",
      " Residual             0.069150 0.26296 \n",
      "Number of obs: 36, groups:  evo_line, 18\n",
      "\n",
      "Fixed effects:\n",
      "                      Estimate Std. Error       df  t value Pr(>|t|)    \n",
      "(Intercept)           -8.45143    0.04739 14.00000 -178.320  < 2e-16 ***\n",
      "virus1                 0.41491    0.04739 14.00000    8.754 4.72e-07 ***\n",
      "genome_region1         0.02976    0.04383 16.00000    0.679    0.507    \n",
      "GT1                    0.08467    0.06703 14.00000    1.263    0.227    \n",
      "GT2                    0.05963    0.06703 14.00000    0.890    0.389    \n",
      "virus1:genome_region1  0.30053    0.04383 16.00000    6.857 3.85e-06 ***\n",
      "---\n",
      "Signif. codes:  0 ‘***’ 0.001 ‘**’ 0.01 ‘*’ 0.05 ‘.’ 0.1 ‘ ’ 1\n",
      "\n",
      "Correlation of Fixed Effects:\n",
      "            (Intr) virus1 gnm_r1 GT1    GT2   \n",
      "virus1       0.000                            \n",
      "genome_rgn1  0.000  0.000                     \n",
      "GT1          0.000  0.000  0.000              \n",
      "GT2          0.000  0.000  0.000 -0.500       \n",
      "vrs1:gnm_r1  0.000  0.000  0.000  0.000  0.000\n"
     ]
    },
    {
     "name": "stderr",
     "output_type": "stream",
     "text": [
      "/Users/lfuhrmann/Library/Python/3.9/lib/python/site-packages/rpy2/robjects/pandas2ri.py:54: FutureWarning: iteritems is deprecated and will be removed in a future version. Use .items instead.\n",
      "  for name, values in obj.iteritems():\n"
     ]
    }
   ],
   "source": [
    "%%R -i df_pi_summary \n",
    "\n",
    "library(lme4)\n",
    "\n",
    "df_pi_summary$virus <- as.factor(df_pi_summary$virus)\n",
    "df_pi_summary$genome_region <- as.factor(df_pi_summary$genome_region)\n",
    "\n",
    "\n",
    "model <- lmer(log_pi ~ virus * genome_region + (1|evo_line) + GT, data = df_pi_summary)\n",
    "\n",
    "summary(model)"
   ]
  },
  {
   "cell_type": "code",
   "execution_count": 148,
   "id": "8e8c61c4",
   "metadata": {},
   "outputs": [],
   "source": [
    "%%R\n",
    "\n",
    "library(emmeans)\n",
    "emmeans_result <- emmeans(model, specs = pairwise ~ virus * genome_region, adjust = \"tukey\")"
   ]
  },
  {
   "cell_type": "code",
   "execution_count": 149,
   "id": "7b965829",
   "metadata": {},
   "outputs": [
    {
     "name": "stdout",
     "output_type": "stream",
     "text": [
      " contrast                           estimate    SE   df t.ratio p.value\n",
      " CrPV 2B - DCV 2B                      1.431 0.129 29.4  11.083  <.0001\n",
      " CrPV 2B - (CrPV coding-2B)            0.661 0.124 16.0   5.329  0.0004\n",
      " CrPV 2B - (DCV coding-2B)             0.889 0.129 29.4   6.889  <.0001\n",
      " DCV 2B - (CrPV coding-2B)            -0.770 0.129 29.4  -5.966  <.0001\n",
      " DCV 2B - (DCV coding-2B)             -0.542 0.124 16.0  -4.369  0.0024\n",
      " (CrPV coding-2B) - (DCV coding-2B)    0.229 0.129 29.4   1.772  0.3066\n",
      "\n",
      "Results are averaged over the levels of: GT \n",
      "Degrees-of-freedom method: kenward-roger \n",
      "P value adjustment: tukey method for comparing a family of 4 estimates \n"
     ]
    }
   ],
   "source": [
    "%%R \n",
    "\n",
    "summary(emmeans_result$contrasts)"
   ]
  },
  {
   "cell_type": "code",
   "execution_count": 150,
   "id": "8792eaf4",
   "metadata": {},
   "outputs": [
    {
     "data": {
      "image/png": "[encoded data removed]"
     },
     "metadata": {},
     "output_type": "display_data"
    }
   ],
   "source": [
    "%%R \n",
    "\n",
    "qqnorm(resid(model))\n",
    "qqline(resid(model))\n"
   ]
  },
  {
   "cell_type": "code",
   "execution_count": 151,
   "id": "b8ed9ed6",
   "metadata": {},
   "outputs": [
    {
     "name": "stdout",
     "output_type": "stream",
     "text": [
      "\n",
      "\tShapiro-Wilk normality test\n",
      "\n",
      "data:  resid(model)\n",
      "W = 0.96516, p-value = 0.3084\n",
      "\n"
     ]
    }
   ],
   "source": [
    "%%R \n",
    "\n",
    "shapiro.test(resid(model))"
   ]
  },
  {
   "cell_type": "code",
   "execution_count": 152,
   "id": "6ad46162",
   "metadata": {},
   "outputs": [
    {
     "name": "stdout",
     "output_type": "stream",
     "text": [
      "Levene's Test for Homogeneity of Variance (center = median)\n",
      "      Df F value  Pr(>F)  \n",
      "group  3  2.3396 0.09198 .\n",
      "      32                  \n",
      "---\n",
      "Signif. codes:  0 ‘***’ 0.001 ‘**’ 0.01 ‘*’ 0.05 ‘.’ 0.1 ‘ ’ 1\n"
     ]
    }
   ],
   "source": [
    "%%R \n",
    "\n",
    "library(car)\n",
    "leveneTest(resid(model) ~ virus * genome_region, data = df_pi_summary)\n"
   ]
  },
  {
   "cell_type": "code",
   "execution_count": 153,
   "id": "22cb39ff",
   "metadata": {},
   "outputs": [
    {
     "data": {
      "image/png": "[encoded data removed]"
     },
     "metadata": {},
     "output_type": "display_data"
    }
   ],
   "source": [
    "%%R\n",
    "\n",
    "plot(resid(model))"
   ]
  },
  {
   "cell_type": "code",
   "execution_count": 154,
   "id": "f8ff2b2d",
   "metadata": {},
   "outputs": [
    {
     "data": {
      "image/png": "[encoded data removed]"
     },
     "metadata": {},
     "output_type": "display_data"
    }
   ],
   "source": [
    "%%R\n",
    "\n",
    "acf(resid(model))"
   ]
  },
  {
   "cell_type": "code",
   "execution_count": null,
   "id": "41b3941d",
   "metadata": {},
   "outputs": [],
   "source": []
  },
  {
   "cell_type": "code",
   "execution_count": null,
   "id": "985df967",
   "metadata": {},
   "outputs": [],
   "source": []
  },
  {
   "cell_type": "code",
   "execution_count": null,
   "id": "8ecd66dc",
   "metadata": {},
   "outputs": [],
   "source": []
  }
 ],
 "metadata": {
  "kernelspec": {
   "display_name": "Python 3 (ipykernel)",
   "language": "python",
   "name": "python3"
  },
  "language_info": {
   "codemirror_mode": {
    "name": "ipython",
    "version": 3
   },
   "file_extension": ".py",
   "mimetype": "text/x-python",
   "name": "python",
   "nbconvert_exporter": "python",
   "pygments_lexer": "ipython3",
   "version": "3.9.0"
  }
 },
 "nbformat": 4,
 "nbformat_minor": 5
}
