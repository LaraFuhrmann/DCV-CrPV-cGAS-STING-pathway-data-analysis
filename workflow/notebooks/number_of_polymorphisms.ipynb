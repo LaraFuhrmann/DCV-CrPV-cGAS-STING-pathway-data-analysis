{
 "cells": [
  {
   "cell_type": "code",
   "execution_count": 43,
   "id": "ba1b8517",
   "metadata": {},
   "outputs": [],
   "source": [
    "import pandas as pd\n",
    "import numpy as np\n",
    "import seaborn as sns\n",
    "import matplotlib.pylab as plt"
   ]
  },
  {
   "cell_type": "code",
   "execution_count": 62,
   "id": "02c92cbb",
   "metadata": {},
   "outputs": [],
   "source": [
    "our_color_palette = {\"WT\": \"#F2C14E\", # yellow\n",
    "                     \"W\": \"#F2C14E\", # yellow\n",
    "                     \"IP\": \"#79ADDC\", # blue\n",
    "                     \"I\": \"#79ADDC\", # blue\n",
    "                     \"KO\": \"#B279A7\", # purple\n",
    "                     \"K\": \"#B279A7\", # purple\n",
    "                     \"parental\": \"gray\"\n",
    "                    } \n",
    "treatments_list = [\"W\", \"I\", \"K\", \"parental\"]\n",
    "passages_list = [\"p0\", \"p1\", \"p2\", \"p3\", \"p5\", \"p10\"]\n",
    "passages_list = [0, 1, 2, 3, 5, 10]\n",
    "\n",
    "replicates_list = ['a', 'b', 'c', \"vs\"]\n",
    "#treatments_list = [\"W\", \"I\", \"K\"]\n",
    "#passages_list = [ \"p1\", \"p2\", \"p3\", \"p5\", \"p10\"]\n",
    "#replicates_list = ['a', 'b', 'c']"
   ]
  },
  {
   "cell_type": "code",
   "execution_count": 63,
   "id": "56fc6d95",
   "metadata": {},
   "outputs": [],
   "source": [
    "fname = \"../../results_summary/all_mutations.annotated.filtered.csv\"\n",
    "df = pd.read_csv(fname)"
   ]
  },
  {
   "cell_type": "code",
   "execution_count": 64,
   "id": "cf457d10",
   "metadata": {},
   "outputs": [],
   "source": [
    "df['genotype'] = df['file'].str.split(\"/\").str[2].str.split(\"_\").str[0]\n",
    "df['rep'] = df['file'].str.split(\"/\").str[2].str.split(\"_\").str[2]\n",
    "df['passage'] = df['file'].str.split(\"/\").str[2].str.split(\"_\").str[1]\n",
    "df['n_var'] = df['Rvar'] + df['Fvar']\n",
    "df['n_tot'] = df['Rtot'] + df['Ftot']\n",
    "df['frequency'] = df['n_var'] / df['n_tot']\n",
    "df['position'] = df['POS'] \n",
    "df['mutation'] = df['REF'] + df['POS'].astype(str) + df['ALT']\n",
    "\n",
    "df['passage'] = df['passage'].str.split(\"p\").str[-1].astype(int)"
   ]
  },
  {
   "cell_type": "code",
   "execution_count": 65,
   "id": "846bcacd",
   "metadata": {},
   "outputs": [
    {
     "data": {
      "text/plain": [
       "array(['vs', 'a', 'b', 'c'], dtype=object)"
      ]
     },
     "execution_count": 65,
     "metadata": {},
     "output_type": "execute_result"
    }
   ],
   "source": [
    "df['rep'].unique()"
   ]
  },
  {
   "cell_type": "code",
   "execution_count": 66,
   "id": "3fed1ca3",
   "metadata": {},
   "outputs": [],
   "source": [
    "freq_thres = 0.0"
   ]
  },
  {
   "cell_type": "code",
   "execution_count": 67,
   "id": "8b5701b7",
   "metadata": {},
   "outputs": [
    {
     "data": {
      "text/plain": [
       "0.0007282889041453368"
      ]
     },
     "execution_count": 67,
     "metadata": {},
     "output_type": "execute_result"
    }
   ],
   "source": [
    "df[df['virus']=='crpv']['frequency'].median()"
   ]
  },
  {
   "cell_type": "code",
   "execution_count": 68,
   "id": "fab6dcc7",
   "metadata": {
    "scrolled": true
   },
   "outputs": [
    {
     "name": "stdout",
     "output_type": "stream",
     "text": [
      "W passage  0 a\n",
      "W passage  0 b\n",
      "W passage  0 c\n",
      "W passage  0 vs\n",
      "W passage  1 vs\n",
      "W passage  2 vs\n",
      "W passage  3 vs\n",
      "W passage  5 vs\n",
      "W passage  10 vs\n",
      "I passage  0 a\n",
      "I passage  0 b\n",
      "I passage  0 c\n",
      "I passage  0 vs\n",
      "I passage  1 vs\n",
      "I passage  2 vs\n",
      "I passage  3 vs\n",
      "I passage  5 vs\n",
      "I passage  10 vs\n",
      "K passage  0 a\n",
      "K passage  0 b\n",
      "K passage  0 c\n",
      "K passage  0 vs\n",
      "K passage  1 vs\n",
      "K passage  2 vs\n",
      "K passage  3 vs\n",
      "K passage  5 vs\n",
      "K passage  10 vs\n",
      "parental passage  0 a\n",
      "parental passage  0 b\n",
      "parental passage  0 c\n",
      "parental passage  1 a\n",
      "parental passage  1 b\n",
      "parental passage  1 c\n",
      "parental passage  1 vs\n",
      "parental passage  2 a\n",
      "parental passage  2 b\n",
      "parental passage  2 c\n",
      "parental passage  2 vs\n",
      "parental passage  3 a\n",
      "parental passage  3 b\n",
      "parental passage  3 c\n",
      "parental passage  3 vs\n",
      "parental passage  5 a\n",
      "parental passage  5 b\n",
      "parental passage  5 c\n",
      "parental passage  5 vs\n",
      "parental passage  10 a\n",
      "parental passage  10 b\n",
      "parental passage  10 c\n",
      "parental passage  10 vs\n",
      "W passage  0 a\n",
      "W passage  0 b\n",
      "W passage  0 c\n",
      "W passage  0 vs\n",
      "W passage  1 vs\n",
      "W passage  2 vs\n",
      "W passage  3 vs\n",
      "W passage  5 vs\n",
      "W passage  10 c\n",
      "W passage  10 vs\n",
      "I passage  0 a\n",
      "I passage  0 b\n",
      "I passage  0 c\n",
      "I passage  0 vs\n",
      "I passage  1 vs\n",
      "I passage  2 vs\n",
      "I passage  3 vs\n",
      "I passage  5 vs\n",
      "I passage  10 vs\n",
      "K passage  0 a\n",
      "K passage  0 b\n",
      "K passage  0 c\n",
      "K passage  0 vs\n",
      "K passage  1 vs\n",
      "K passage  2 vs\n",
      "K passage  3 vs\n",
      "K passage  5 vs\n",
      "K passage  10 vs\n",
      "parental passage  0 a\n",
      "parental passage  0 b\n",
      "parental passage  0 c\n",
      "parental passage  1 a\n",
      "parental passage  1 b\n",
      "parental passage  1 c\n",
      "parental passage  1 vs\n",
      "parental passage  2 a\n",
      "parental passage  2 b\n",
      "parental passage  2 c\n",
      "parental passage  2 vs\n",
      "parental passage  3 a\n",
      "parental passage  3 b\n",
      "parental passage  3 c\n",
      "parental passage  3 vs\n",
      "parental passage  5 a\n",
      "parental passage  5 b\n",
      "parental passage  5 c\n",
      "parental passage  5 vs\n",
      "parental passage  10 a\n",
      "parental passage  10 b\n",
      "parental passage  10 c\n",
      "parental passage  10 vs\n"
     ]
    }
   ],
   "source": [
    "def number_of_polymorphisms(df_mutations, minor_allele_frequency=0):\n",
    "    df_temp = df_mutations[df_mutations[\"frequency\"] > minor_allele_frequency]\n",
    "    variant_positions = df_temp[\"position\"].unique()\n",
    "    return len(variant_positions)\n",
    "\n",
    "df_diversity = pd.DataFrame()\n",
    "\n",
    "for v in df['virus'].unique():\n",
    "    for t in treatments_list:\n",
    "        for p in passages_list:\n",
    "            for r in replicates_list:\n",
    "\n",
    "                df_temp = df[(df['genotype']== t)]\n",
    "                df_temp = df_temp[df_temp['passage']==p]\n",
    "                df_temp = df_temp[df_temp['rep']==r]\n",
    "                df_temp = df_temp[df_temp['virus']==v]\n",
    "                if df_temp.shape[0]>0:\n",
    "\n",
    "                    dict_t = {'genotype': t, \n",
    "                              'virus': v, \n",
    "                              'passage': p, \n",
    "                              'rep': r,\n",
    "                              'n_polymorphisms': [number_of_polymorphisms(df_temp, freq_thres)]}\n",
    "                    df_diversity = pd.concat([df_diversity, pd.DataFrame(data=dict_t)])\n",
    "                else:\n",
    "                    print(t,\"passage \", p, r)\n",
    "df_diversity = df_diversity.reset_index()"
   ]
  },
  {
   "cell_type": "code",
   "execution_count": 69,
   "id": "28e9e83d",
   "metadata": {},
   "outputs": [],
   "source": [
    "dcv_parental = df_diversity[(df_diversity['virus']=='dcv') &(df_diversity['genotype']=='parental')]['n_polymorphisms'].values[0]\n",
    "crpv_parental = df_diversity[(df_diversity['virus']=='crpv') &(df_diversity['genotype']=='parental')]['n_polymorphisms'].values[0]"
   ]
  },
  {
   "cell_type": "code",
   "execution_count": 70,
   "id": "79859346",
   "metadata": {},
   "outputs": [
    {
     "data": {
      "text/plain": [
       "244"
      ]
     },
     "execution_count": 70,
     "metadata": {},
     "output_type": "execute_result"
    }
   ],
   "source": [
    "crpv_parental"
   ]
  },
  {
   "cell_type": "code",
   "execution_count": 71,
   "id": "b6c49443",
   "metadata": {},
   "outputs": [
    {
     "data": {
      "text/plain": [
       "nan"
      ]
     },
     "execution_count": 71,
     "metadata": {},
     "output_type": "execute_result"
    }
   ],
   "source": [
    "df_diversity[(df_diversity['genotype']=='I') \n",
    "             & (df_diversity['virus']=='crpv')\n",
    "             & (df_diversity['passage']=='p1')]['n_polymorphisms'].mean()"
   ]
  },
  {
   "cell_type": "code",
   "execution_count": 72,
   "id": "a6824720",
   "metadata": {},
   "outputs": [
    {
     "data": {
      "text/plain": [
       "nan"
      ]
     },
     "execution_count": 72,
     "metadata": {},
     "output_type": "execute_result"
    }
   ],
   "source": [
    "df_diversity[(df_diversity['genotype']=='I') \n",
    "             & (df_diversity['virus']=='crpv')\n",
    "             & (df_diversity['passage']=='p10')]['n_polymorphisms'].mean()"
   ]
  },
  {
   "cell_type": "code",
   "execution_count": 73,
   "id": "36201c9c",
   "metadata": {},
   "outputs": [
    {
     "data": {
      "text/plain": [
       "nan"
      ]
     },
     "execution_count": 73,
     "metadata": {},
     "output_type": "execute_result"
    }
   ],
   "source": [
    "df_diversity[(df_diversity['genotype']=='K') \n",
    "             & (df_diversity['virus']=='crpv')\n",
    "             & (df_diversity['passage']=='p')]['n_polymorphisms'].mean()"
   ]
  },
  {
   "cell_type": "code",
   "execution_count": 77,
   "id": "7a9231cd",
   "metadata": {},
   "outputs": [
    {
     "data": {
      "image/png": "[encoded data removed]",
      "text/plain": [
       "<Figure size 418.175x360 with 1 Axes>"
      ]
     },
     "metadata": {},
     "output_type": "display_data"
    }
   ],
   "source": [
    "sns.set(rc={'figure.figsize':(20,20)})\n",
    "sns.set_style('white')\n",
    "sns.set_style(\"ticks\")  # or try \"whitegrid\"\n",
    "\n",
    "\n",
    "g = sns.relplot(data=df_diversity,\n",
    "                kind='line',\n",
    "                  x=\"passage\", \n",
    "                  y='n_polymorphisms', \n",
    "                  col=\"virus\", \n",
    "                  hue ='genotype',\n",
    "                  hue_order=['W', 'I', 'K'], \n",
    "                  errorbar=\"se\",\n",
    "                  #order=[\"p1\", \"p2\", \"p3\", \"p5\", \"p10\"],\n",
    "                  palette=our_color_palette, \n",
    "                col_order=['dcv'],\n",
    "                marker='o', \n",
    "                err_style=\"bars\",\n",
    "                err_kws={\"elinewidth\": 1., \"capsize\": 2.5},\n",
    "                )\n",
    "#g.ax.set_ylim(0,9.5)\n",
    "g.set_axis_labels(\"vial passage\", \"number of polymorphisms\")\n",
    "g.set_titles(col_template=\"{col_name}\")\n",
    "\n",
    "\n",
    "\n",
    "# Add vertical line to specific subplots\n",
    "for ax in g.axes.flat:\n",
    "    if ax.title.get_text() == 'crpv':  # Add line to subplots where virus is A\n",
    "        ax.axhline(y=crpv_parental, color='gray', linestyle='--')  # Add vertical line at passage 3\n",
    "    if ax.title.get_text() == 'dcv':  # Add line to subplots where virus is A\n",
    "        ax.axhline(y=dcv_parental, color='gray', linestyle='--')  # Add vertical line at passage 3\n",
    "\n",
    "plt.show()\n",
    "\n",
    "g.figure.savefig(f\"/Users/lfuhrmann/Downloads/dcv_number_polymorphisms_freq0.00.pdf\")"
   ]
  },
  {
   "cell_type": "markdown",
   "id": "5380c068",
   "metadata": {},
   "source": [
    "## non-syn "
   ]
  },
  {
   "cell_type": "code",
   "execution_count": 37,
   "id": "136b99ca",
   "metadata": {},
   "outputs": [],
   "source": [
    "fname = \"../../results_summary/all_mutations.annotated.filtered.csv\"\n",
    "df = pd.read_csv(fname)\n",
    "\n",
    "df['genotype'] = df['file'].str.split(\"/\").str[2].str.split(\"_\").str[0]\n",
    "df['rep'] = df['file'].str.split(\"/\").str[2].str.split(\"_\").str[2]\n",
    "df['passage'] = df['file'].str.split(\"/\").str[2].str.split(\"_\").str[1]\n",
    "df['n_var'] = df['Rvar'] + df['Fvar']\n",
    "df['n_tot'] = df['Rtot'] + df['Ftot']\n",
    "df['frequency'] = df['n_var'] / df['n_tot']\n",
    "df['position'] = df['POS'] \n",
    "df['mutation'] = df['REF'] + df['POS'].astype(str) + df['ALT']\n",
    "\n",
    "\n",
    "df = df[df['IsSynonymous']==1]\n",
    "#df = df[df['virus']=='crpv']"
   ]
  },
  {
   "cell_type": "code",
   "execution_count": 38,
   "id": "d3fb3ca3",
   "metadata": {},
   "outputs": [],
   "source": [
    "freq_thres = 0.01"
   ]
  },
  {
   "cell_type": "code",
   "execution_count": 39,
   "id": "8d84121c",
   "metadata": {},
   "outputs": [
    {
     "name": "stdout",
     "output_type": "stream",
     "text": [
      "W passage  p0 a\n",
      "W passage  p0 b\n",
      "W passage  p0 c\n",
      "W passage  p0 vs\n",
      "W passage  p1 vs\n",
      "W passage  p2 vs\n",
      "W passage  p3 vs\n",
      "W passage  p5 vs\n",
      "W passage  p10 vs\n",
      "I passage  p0 a\n",
      "I passage  p0 b\n",
      "I passage  p0 c\n",
      "I passage  p0 vs\n",
      "I passage  p1 vs\n",
      "I passage  p2 vs\n",
      "I passage  p3 vs\n",
      "I passage  p5 vs\n",
      "I passage  p10 vs\n",
      "K passage  p0 a\n",
      "K passage  p0 b\n",
      "K passage  p0 c\n",
      "K passage  p0 vs\n",
      "K passage  p1 vs\n",
      "K passage  p2 vs\n",
      "K passage  p3 vs\n",
      "K passage  p5 vs\n",
      "K passage  p10 vs\n",
      "parental passage  p0 a\n",
      "parental passage  p0 b\n",
      "parental passage  p0 c\n",
      "parental passage  p1 a\n",
      "parental passage  p1 b\n",
      "parental passage  p1 c\n",
      "parental passage  p1 vs\n",
      "parental passage  p2 a\n",
      "parental passage  p2 b\n",
      "parental passage  p2 c\n",
      "parental passage  p2 vs\n",
      "parental passage  p3 a\n",
      "parental passage  p3 b\n",
      "parental passage  p3 c\n",
      "parental passage  p3 vs\n",
      "parental passage  p5 a\n",
      "parental passage  p5 b\n",
      "parental passage  p5 c\n",
      "parental passage  p5 vs\n",
      "parental passage  p10 a\n",
      "parental passage  p10 b\n",
      "parental passage  p10 c\n",
      "parental passage  p10 vs\n",
      "W passage  p0 a\n",
      "W passage  p0 b\n",
      "W passage  p0 c\n",
      "W passage  p0 vs\n",
      "W passage  p1 vs\n",
      "W passage  p2 vs\n",
      "W passage  p3 vs\n",
      "W passage  p5 vs\n",
      "W passage  p10 c\n",
      "W passage  p10 vs\n",
      "I passage  p0 a\n",
      "I passage  p0 b\n",
      "I passage  p0 c\n",
      "I passage  p0 vs\n",
      "I passage  p1 vs\n",
      "I passage  p2 vs\n",
      "I passage  p3 vs\n",
      "I passage  p5 vs\n",
      "I passage  p10 vs\n",
      "K passage  p0 a\n",
      "K passage  p0 b\n",
      "K passage  p0 c\n",
      "K passage  p0 vs\n",
      "K passage  p1 vs\n",
      "K passage  p2 vs\n",
      "K passage  p3 vs\n",
      "K passage  p5 vs\n",
      "K passage  p10 vs\n",
      "parental passage  p0 a\n",
      "parental passage  p0 b\n",
      "parental passage  p0 c\n",
      "parental passage  p1 a\n",
      "parental passage  p1 b\n",
      "parental passage  p1 c\n",
      "parental passage  p1 vs\n",
      "parental passage  p2 a\n",
      "parental passage  p2 b\n",
      "parental passage  p2 c\n",
      "parental passage  p2 vs\n",
      "parental passage  p3 a\n",
      "parental passage  p3 b\n",
      "parental passage  p3 c\n",
      "parental passage  p3 vs\n",
      "parental passage  p5 a\n",
      "parental passage  p5 b\n",
      "parental passage  p5 c\n",
      "parental passage  p5 vs\n",
      "parental passage  p10 a\n",
      "parental passage  p10 b\n",
      "parental passage  p10 c\n",
      "parental passage  p10 vs\n"
     ]
    }
   ],
   "source": [
    "def number_of_polymorphisms(df_mutations, minor_allele_frequency=0):\n",
    "    df_temp = df_mutations[df_mutations[\"frequency\"] > minor_allele_frequency]\n",
    "    variant_positions = df_temp[\"position\"].unique()\n",
    "    return len(variant_positions)\n",
    "\n",
    "df_diversity = pd.DataFrame()\n",
    "\n",
    "for v in df['virus'].unique():\n",
    "    for t in treatments_list:\n",
    "        for p in passages_list:\n",
    "            for r in replicates_list:\n",
    "\n",
    "                df_temp = df[(df['genotype']== t)]\n",
    "                df_temp = df_temp[df_temp['passage']==p]\n",
    "                df_temp = df_temp[df_temp['rep']==r]\n",
    "                df_temp = df_temp[df_temp['virus']==v]\n",
    "                if df_temp.shape[0]>0:\n",
    "\n",
    "                    dict_t = {'genotype': t, \n",
    "                              'virus': v, \n",
    "                              'passage': p, \n",
    "                              'rep': r,\n",
    "                              'n_polymorphisms': [number_of_polymorphisms(df_temp, freq_thres)]}\n",
    "                    df_diversity = pd.concat([df_diversity, pd.DataFrame(data=dict_t)])\n",
    "                else:\n",
    "                    print(t,\"passage \", p, r)\n",
    "df_diversity = df_diversity.reset_index()"
   ]
  },
  {
   "cell_type": "code",
   "execution_count": 40,
   "id": "d7cb3b91",
   "metadata": {},
   "outputs": [],
   "source": [
    "crpv_parental = df_diversity[(df_diversity['virus']=='crpv') &(df_diversity['genotype']=='parental')]['n_polymorphisms'].values[0]"
   ]
  },
  {
   "cell_type": "code",
   "execution_count": 41,
   "id": "52f4a6ee",
   "metadata": {},
   "outputs": [
    {
     "name": "stderr",
     "output_type": "stream",
     "text": [
      "/var/folders/dw/8dl4p6h53cgcmk6cf_09v5f40000gr/T/ipykernel_2919/778585239.py:4: FutureWarning: \n",
      "\n",
      "The `errwidth` parameter is deprecated. And will be removed in v0.15.0. Pass `err_kws={'linewidth': 1.1}` instead.\n",
      "\n",
      "  g = sns.catplot(data=df_diversity,\n"
     ]
    },
    {
     "data": {
      "image/png": "[encoded data removed]",
      "text/plain": [
       "<Figure size 778.175x360 with 2 Axes>"
      ]
     },
     "metadata": {},
     "output_type": "display_data"
    }
   ],
   "source": [
    "sns.set(rc={'figure.figsize':(20,20)})\n",
    "sns.set_style('white')\n",
    "from matplotlib.ticker import MultipleLocator\n",
    "\n",
    "\n",
    "g = sns.catplot(data=df_diversity,\n",
    "                kind='point',\n",
    "                  x=\"passage\", \n",
    "                  y='n_polymorphisms', \n",
    "                  col=\"virus\", \n",
    "                  hue ='genotype',\n",
    "                  hue_order=['W', 'I', 'K'], \n",
    "                  errorbar=\"se\",\n",
    "                  order=[\"p1\", \"p2\", \"p3\", \"p5\", \"p10\"],\n",
    "                  palette=our_color_palette, \n",
    "                col_order=['crpv'],\n",
    "                  errwidth=1.1, \n",
    "                  dodge=0.2,\n",
    "                  capsize=0.1)\n",
    "#g.ax.set_ylim(0,9.5)\n",
    "g.set_axis_labels(\"vial passage\", \"number of polymorphisms\")\n",
    "g.set_titles(col_template=\"{col_name}\")\n",
    "\n",
    "\n",
    "# Access the axes and explicitly set minor ticks\n",
    "for ax in g.axes.flat:\n",
    "    ax.yaxis.set_minor_locator(MultipleLocator(0.1))  # Adjust 0.1 to your desired interval\n",
    "    ax.tick_params(axis='y', which='minor', length=4, color='black')\n",
    "\n",
    "# Add vertical line to specific subplots\n",
    "for ax in g.axes.flat:\n",
    "    if ax.title.get_text() == 'crpv':  # Add line to subplots where virus is A\n",
    "        ax.axhline(y=crpv_parental, color='gray', linestyle='--')  # Add vertical line at passage 3\n",
    "    if ax.title.get_text() == 'dcv':  # Add line to subplots where virus is A\n",
    "        ax.axhline(y=dcv_parental, color='gray', linestyle='--')  # Add vertical line at passage 3\n",
    "\n",
    "\n",
    "g.figure.savefig(f\"/Users/lfuhrmann/Downloads/number_NSpolymorphisms_freq0.00.pdf\")"
   ]
  },
  {
   "cell_type": "code",
   "execution_count": 16,
   "id": "da1f69fb",
   "metadata": {},
   "outputs": [
    {
     "data": {
      "text/plain": [
       "70.33333333333333"
      ]
     },
     "execution_count": 16,
     "metadata": {},
     "output_type": "execute_result"
    }
   ],
   "source": [
    "df_diversity[(df_diversity['genotype']=='I') \n",
    "             & (df_diversity['virus']=='crpv')\n",
    "             & (df_diversity['passage']=='p1')]['n_polymorphisms'].mean()"
   ]
  },
  {
   "cell_type": "code",
   "execution_count": 17,
   "id": "9605940e",
   "metadata": {},
   "outputs": [
    {
     "data": {
      "text/plain": [
       "109.33333333333333"
      ]
     },
     "execution_count": 17,
     "metadata": {},
     "output_type": "execute_result"
    }
   ],
   "source": [
    "df_diversity[(df_diversity['genotype']=='I') \n",
    "             & (df_diversity['virus']=='crpv')\n",
    "             & (df_diversity['passage']=='p10')]['n_polymorphisms'].mean()"
   ]
  },
  {
   "cell_type": "code",
   "execution_count": 18,
   "id": "4adbde19",
   "metadata": {},
   "outputs": [
    {
     "data": {
      "text/plain": [
       "nan"
      ]
     },
     "execution_count": 18,
     "metadata": {},
     "output_type": "execute_result"
    }
   ],
   "source": [
    "df_diversity[(df_diversity['genotype']=='K') \n",
    "             & (df_diversity['virus']=='crpv')\n",
    "             & (df_diversity['passage']=='p')]['n_polymorphisms'].mean()"
   ]
  },
  {
   "cell_type": "code",
   "execution_count": 19,
   "id": "f879318e",
   "metadata": {},
   "outputs": [
    {
     "data": {
      "text/plain": [
       "93"
      ]
     },
     "execution_count": 19,
     "metadata": {},
     "output_type": "execute_result"
    }
   ],
   "source": [
    "crpv_parental"
   ]
  },
  {
   "cell_type": "code",
   "execution_count": null,
   "id": "06e1fdab",
   "metadata": {},
   "outputs": [],
   "source": []
  }
 ],
 "metadata": {
  "kernelspec": {
   "display_name": "Python 3 (ipykernel)",
   "language": "python",
   "name": "python3"
  },
  "language_info": {
   "codemirror_mode": {
    "name": "ipython",
    "version": 3
   },
   "file_extension": ".py",
   "mimetype": "text/x-python",
   "name": "python",
   "nbconvert_exporter": "python",
   "pygments_lexer": "ipython3",
   "version": "3.9.0"
  }
 },
 "nbformat": 4,
 "nbformat_minor": 5
}
