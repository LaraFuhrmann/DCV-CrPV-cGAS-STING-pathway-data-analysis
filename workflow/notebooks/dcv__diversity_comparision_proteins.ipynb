{
 "cells": [
  {
   "cell_type": "code",
   "execution_count": 5,
   "id": "5fde0df3",
   "metadata": {},
   "outputs": [],
   "source": [
    "import pandas as pd\n",
    "import seaborn as sns\n",
    "import matplotlib.pyplot as plt"
   ]
  },
  {
   "cell_type": "code",
   "execution_count": 6,
   "id": "efd11f9b",
   "metadata": {},
   "outputs": [],
   "source": [
    "our_color_palette = {\"WT\": \"#F2C14E\", # yellow\n",
    "                     \"W\": \"#F2C14E\", # yellow\n",
    "                     \"IP\": \"#79ADDC\", # blue\n",
    "                     \"I\": \"#79ADDC\", # blue\n",
    "                     \"KO\": \"#B279A7\", # purple\n",
    "                     \"K\": \"#B279A7\", # purple\n",
    "                    } \n",
    "treatments_list = [\"W\", \"I\", \"K\"]\n",
    "passages_list = [\"p1\", \"p2\", \"p3\", \"p5\", \"p10\"]\n",
    "replicates_list = ['a', 'b', 'c']"
   ]
  },
  {
   "cell_type": "code",
   "execution_count": 7,
   "id": "240b59f1",
   "metadata": {},
   "outputs": [],
   "source": [
    "# define protein \n",
    "\n",
    "proteins = {\n",
    "\"1A\": (799, 1089),\n",
    "    \"2A\": (1092, 1161),\n",
    "    \"2B\": (1164, 1587),\n",
    "    \"2C\": (1590, 2901),\n",
    "    \"3A\": (2904, 3501),\n",
    "    \"3C\": (3504, 4422),\n",
    "    \"RdRp\": (4425, 6072),\n",
    "    \"VP2\": (6267, 7110),\n",
    "    \"VP4\": (7113, 7281),\n",
    "    \"VP3\": (7284, 8175),\n",
    "    \"VP1\": (8175, 8970),\n",
    "           }"
   ]
  },
  {
   "cell_type": "code",
   "execution_count": 8,
   "id": "e10d4132",
   "metadata": {},
   "outputs": [],
   "source": [
    "length_dcv = 9264"
   ]
  },
  {
   "cell_type": "code",
   "execution_count": 16,
   "id": "85e66fee",
   "metadata": {},
   "outputs": [],
   "source": [
    "# load diveristy \n",
    "\n",
    "fname = \"../../results_summary/all_snpgenie_site_results.csv\"\n",
    "df = pd.read_csv(fname)"
   ]
  },
  {
   "cell_type": "code",
   "execution_count": 17,
   "id": "538f08cb",
   "metadata": {},
   "outputs": [],
   "source": [
    "df_pis_protein = pd.DataFrame() \n",
    "\n",
    "for virus in ['DCV']:\n",
    "    for sample in df['passage'].unique():\n",
    "        for protein in proteins.items():\n",
    "            protein_id = protein[0]\n",
    "            protein_start = protein[1][0]\n",
    "            protein_end = protein[1][1]\n",
    "            protein_length = protein_end - protein_start\n",
    "\n",
    "            df_temp = df[df['virus']== virus]\n",
    "            df_temp = df_temp[df_temp['passage']==sample]\n",
    "            df_temp = df_temp[df_temp['site'].isin(list(range(protein_start,protein_end+1 )))]\n",
    "            avg_pi = df_temp['pi'].sum()/protein_length\n",
    "\n",
    "            mean_pis = {\n",
    "                        'virus': [virus], \n",
    "                        'sample': sample, \n",
    "                        'protein': protein_id,\n",
    "                        'avg_pi': avg_pi, \n",
    "                    }\n",
    "\n",
    "            df_pis_protein = pd.concat([pd.DataFrame(mean_pis),df_pis_protein], ignore_index=True)"
   ]
  },
  {
   "cell_type": "code",
   "execution_count": 18,
   "id": "9f843d4d",
   "metadata": {},
   "outputs": [
    {
     "data": {
      "text/html": [
       "<div>\n",
       "<style scoped>\n",
       "    .dataframe tbody tr th:only-of-type {\n",
       "        vertical-align: middle;\n",
       "    }\n",
       "\n",
       "    .dataframe tbody tr th {\n",
       "        vertical-align: top;\n",
       "    }\n",
       "\n",
       "    .dataframe thead th {\n",
       "        text-align: right;\n",
       "    }\n",
       "</style>\n",
       "<table border=\"1\" class=\"dataframe\">\n",
       "  <thead>\n",
       "    <tr style=\"text-align: right;\">\n",
       "      <th></th>\n",
       "      <th>virus</th>\n",
       "      <th>sample</th>\n",
       "      <th>protein</th>\n",
       "      <th>avg_pi</th>\n",
       "      <th>genotype</th>\n",
       "      <th>rep</th>\n",
       "      <th>passage</th>\n",
       "    </tr>\n",
       "  </thead>\n",
       "  <tbody>\n",
       "    <tr>\n",
       "      <th>0</th>\n",
       "      <td>DCV</td>\n",
       "      <td>W_p10_c</td>\n",
       "      <td>VP1</td>\n",
       "      <td>0.0</td>\n",
       "      <td>W</td>\n",
       "      <td>c</td>\n",
       "      <td>10</td>\n",
       "    </tr>\n",
       "    <tr>\n",
       "      <th>1</th>\n",
       "      <td>DCV</td>\n",
       "      <td>W_p10_c</td>\n",
       "      <td>VP3</td>\n",
       "      <td>0.0</td>\n",
       "      <td>W</td>\n",
       "      <td>c</td>\n",
       "      <td>10</td>\n",
       "    </tr>\n",
       "    <tr>\n",
       "      <th>2</th>\n",
       "      <td>DCV</td>\n",
       "      <td>W_p10_c</td>\n",
       "      <td>VP4</td>\n",
       "      <td>0.0</td>\n",
       "      <td>W</td>\n",
       "      <td>c</td>\n",
       "      <td>10</td>\n",
       "    </tr>\n",
       "    <tr>\n",
       "      <th>3</th>\n",
       "      <td>DCV</td>\n",
       "      <td>W_p10_c</td>\n",
       "      <td>VP2</td>\n",
       "      <td>0.0</td>\n",
       "      <td>W</td>\n",
       "      <td>c</td>\n",
       "      <td>10</td>\n",
       "    </tr>\n",
       "    <tr>\n",
       "      <th>4</th>\n",
       "      <td>DCV</td>\n",
       "      <td>W_p10_c</td>\n",
       "      <td>RdRp</td>\n",
       "      <td>0.0</td>\n",
       "      <td>W</td>\n",
       "      <td>c</td>\n",
       "      <td>10</td>\n",
       "    </tr>\n",
       "  </tbody>\n",
       "</table>\n",
       "</div>"
      ],
      "text/plain": [
       "  virus   sample protein  avg_pi genotype rep  passage\n",
       "0   DCV  W_p10_c     VP1     0.0        W   c       10\n",
       "1   DCV  W_p10_c     VP3     0.0        W   c       10\n",
       "2   DCV  W_p10_c     VP4     0.0        W   c       10\n",
       "3   DCV  W_p10_c     VP2     0.0        W   c       10\n",
       "4   DCV  W_p10_c    RdRp     0.0        W   c       10"
      ]
     },
     "execution_count": 18,
     "metadata": {},
     "output_type": "execute_result"
    }
   ],
   "source": [
    "df_pis_protein['genotype'] = df_pis_protein['sample'].str.split(\"_\").str[0]\n",
    "df_pis_protein['rep'] = df_pis_protein['sample'].str.split(\"_\").str[-1]\n",
    "df_pis_protein['passage'] = df_pis_protein['sample'].str.split(\"_\").str[1].str.split(\"p\").str[-1].astype(int)\n",
    "\n",
    "df_pis_protein.head()"
   ]
  },
  {
   "cell_type": "code",
   "execution_count": 19,
   "id": "026d7692",
   "metadata": {},
   "outputs": [
    {
     "data": {
      "text/plain": [
       "array(['W', 'I', 'K', 'parental'], dtype=object)"
      ]
     },
     "execution_count": 19,
     "metadata": {},
     "output_type": "execute_result"
    }
   ],
   "source": [
    "df_pis_protein['genotype'].unique()"
   ]
  },
  {
   "cell_type": "code",
   "execution_count": 20,
   "id": "9cf64f82",
   "metadata": {},
   "outputs": [],
   "source": [
    "df_pis_protein = df_pis_protein[df_pis_protein['genotype']!='parental']"
   ]
  },
  {
   "cell_type": "code",
   "execution_count": 21,
   "id": "503fa6e2",
   "metadata": {},
   "outputs": [],
   "source": [
    "df_pi_summary = df_pis_protein[\n",
    "    ['protein', 'avg_pi', 'genotype', 'passage', 'rep']\n",
    "].groupby(by=['genotype', 'rep', 'protein']).mean().reset_index()"
   ]
  },
  {
   "cell_type": "code",
   "execution_count": 22,
   "id": "560037e2",
   "metadata": {},
   "outputs": [
    {
     "name": "stderr",
     "output_type": "stream",
     "text": [
      "/var/folders/dw/8dl4p6h53cgcmk6cf_09v5f40000gr/T/ipykernel_6195/1048459402.py:5: FutureWarning: \n",
      "\n",
      "The `errwidth` parameter is deprecated. And will be removed in v0.15.0. Pass `err_kws={'linewidth': 1.1}` instead.\n",
      "\n",
      "  g = sns.catplot(df_pi_summary,\n"
     ]
    },
    {
     "data": {
      "image/png": "[encoded data removed]",
      "text/plain": [
       "<Figure size 1440x720 with 1 Axes>"
      ]
     },
     "metadata": {},
     "output_type": "display_data"
    }
   ],
   "source": [
    "sns.set_context(\"talk\") \n",
    "sns.set_style('white')\n",
    "\n",
    "\n",
    "g = sns.catplot(df_pi_summary, \n",
    "                y='avg_pi',\n",
    "                hue='genotype', \n",
    "                x='protein', \n",
    "                palette=our_color_palette, \n",
    "                errorbar=\"se\",\n",
    "                linestyle='',\n",
    "                errwidth=1.1, \n",
    "                dodge=0.2,\n",
    "                capsize=0.1,\n",
    "                kind='point')\n",
    "\n",
    "# If you need to adjust after creation, you can also use:\n",
    "g.fig.set_size_inches(20, 10)\n",
    "\n"
   ]
  },
  {
   "cell_type": "code",
   "execution_count": 23,
   "id": "06d5e548",
   "metadata": {},
   "outputs": [
    {
     "data": {
      "text/html": [
       "<div>\n",
       "<style scoped>\n",
       "    .dataframe tbody tr th:only-of-type {\n",
       "        vertical-align: middle;\n",
       "    }\n",
       "\n",
       "    .dataframe tbody tr th {\n",
       "        vertical-align: top;\n",
       "    }\n",
       "\n",
       "    .dataframe thead th {\n",
       "        text-align: right;\n",
       "    }\n",
       "</style>\n",
       "<table border=\"1\" class=\"dataframe\">\n",
       "  <thead>\n",
       "    <tr style=\"text-align: right;\">\n",
       "      <th></th>\n",
       "      <th>genotype</th>\n",
       "      <th>rep</th>\n",
       "      <th>protein</th>\n",
       "      <th>avg_pi</th>\n",
       "      <th>passage</th>\n",
       "    </tr>\n",
       "  </thead>\n",
       "  <tbody>\n",
       "    <tr>\n",
       "      <th>0</th>\n",
       "      <td>I</td>\n",
       "      <td>a</td>\n",
       "      <td>1A</td>\n",
       "      <td>0.000311</td>\n",
       "      <td>4.2</td>\n",
       "    </tr>\n",
       "    <tr>\n",
       "      <th>1</th>\n",
       "      <td>I</td>\n",
       "      <td>a</td>\n",
       "      <td>2A</td>\n",
       "      <td>0.000203</td>\n",
       "      <td>4.2</td>\n",
       "    </tr>\n",
       "    <tr>\n",
       "      <th>2</th>\n",
       "      <td>I</td>\n",
       "      <td>a</td>\n",
       "      <td>2B</td>\n",
       "      <td>0.000229</td>\n",
       "      <td>4.2</td>\n",
       "    </tr>\n",
       "    <tr>\n",
       "      <th>3</th>\n",
       "      <td>I</td>\n",
       "      <td>a</td>\n",
       "      <td>2C</td>\n",
       "      <td>0.000162</td>\n",
       "      <td>4.2</td>\n",
       "    </tr>\n",
       "    <tr>\n",
       "      <th>4</th>\n",
       "      <td>I</td>\n",
       "      <td>a</td>\n",
       "      <td>3A</td>\n",
       "      <td>0.000390</td>\n",
       "      <td>4.2</td>\n",
       "    </tr>\n",
       "    <tr>\n",
       "      <th>...</th>\n",
       "      <td>...</td>\n",
       "      <td>...</td>\n",
       "      <td>...</td>\n",
       "      <td>...</td>\n",
       "      <td>...</td>\n",
       "    </tr>\n",
       "    <tr>\n",
       "      <th>94</th>\n",
       "      <td>W</td>\n",
       "      <td>c</td>\n",
       "      <td>RdRp</td>\n",
       "      <td>0.000161</td>\n",
       "      <td>4.2</td>\n",
       "    </tr>\n",
       "    <tr>\n",
       "      <th>95</th>\n",
       "      <td>W</td>\n",
       "      <td>c</td>\n",
       "      <td>VP1</td>\n",
       "      <td>0.000082</td>\n",
       "      <td>4.2</td>\n",
       "    </tr>\n",
       "    <tr>\n",
       "      <th>96</th>\n",
       "      <td>W</td>\n",
       "      <td>c</td>\n",
       "      <td>VP2</td>\n",
       "      <td>0.000276</td>\n",
       "      <td>4.2</td>\n",
       "    </tr>\n",
       "    <tr>\n",
       "      <th>97</th>\n",
       "      <td>W</td>\n",
       "      <td>c</td>\n",
       "      <td>VP3</td>\n",
       "      <td>0.000142</td>\n",
       "      <td>4.2</td>\n",
       "    </tr>\n",
       "    <tr>\n",
       "      <th>98</th>\n",
       "      <td>W</td>\n",
       "      <td>c</td>\n",
       "      <td>VP4</td>\n",
       "      <td>0.000078</td>\n",
       "      <td>4.2</td>\n",
       "    </tr>\n",
       "  </tbody>\n",
       "</table>\n",
       "<p>99 rows × 5 columns</p>\n",
       "</div>"
      ],
      "text/plain": [
       "   genotype rep protein    avg_pi  passage\n",
       "0         I   a      1A  0.000311      4.2\n",
       "1         I   a      2A  0.000203      4.2\n",
       "2         I   a      2B  0.000229      4.2\n",
       "3         I   a      2C  0.000162      4.2\n",
       "4         I   a      3A  0.000390      4.2\n",
       "..      ...  ..     ...       ...      ...\n",
       "94        W   c    RdRp  0.000161      4.2\n",
       "95        W   c     VP1  0.000082      4.2\n",
       "96        W   c     VP2  0.000276      4.2\n",
       "97        W   c     VP3  0.000142      4.2\n",
       "98        W   c     VP4  0.000078      4.2\n",
       "\n",
       "[99 rows x 5 columns]"
      ]
     },
     "execution_count": 23,
     "metadata": {},
     "output_type": "execute_result"
    }
   ],
   "source": [
    "df_pi_summary"
   ]
  },
  {
   "cell_type": "code",
   "execution_count": 24,
   "id": "6829e0e2",
   "metadata": {},
   "outputs": [],
   "source": [
    "%load_ext rpy2.ipython"
   ]
  },
  {
   "cell_type": "code",
   "execution_count": 36,
   "id": "4b1f7821",
   "metadata": {},
   "outputs": [
    {
     "name": "stderr",
     "output_type": "stream",
     "text": [
      "/Users/lfuhrmann/Library/Python/3.9/lib/python/site-packages/rpy2/robjects/pandas2ri.py:54: FutureWarning: iteritems is deprecated and will be removed in a future version. Use .items instead.\n",
      "  for name, values in obj.iteritems():\n",
      "R[write to console]: Warnung:\n",
      "R[write to console]:  The 'wid' column contains duplicate ids across between-subjects variables. Automatic unique id will be created\n",
      "\n"
     ]
    },
    {
     "name": "stdout",
     "output_type": "stream",
     "text": [
      "ANOVA Table (type II tests)\n",
      "\n",
      "            Effect DFn DFd     F        p p<.05   ges\n",
      "1         genotype   2   6 0.439 6.64e-01       0.040\n",
      "2          protein  10  60 8.732 1.24e-08     * 0.510\n",
      "3 genotype:protein  20  60 0.224 1.00e+00       0.051\n"
     ]
    }
   ],
   "source": [
    "%%R -i df_pi_summary \n",
    "\n",
    "library(rstatix)\n",
    "library(ggpubr)\n",
    "\n",
    "# Two-way mixed ANOVA test\n",
    "res.aov <- anova_test(\n",
    "  data = df_pi_summary, \n",
    "    dv = avg_pi, \n",
    "    wid = rep,\n",
    "    between = genotype, \n",
    "    within = protein\n",
    "  )\n",
    "get_anova_table(res.aov)"
   ]
  },
  {
   "cell_type": "code",
   "execution_count": 37,
   "id": "dd5fe86a",
   "metadata": {},
   "outputs": [
    {
     "data": {
      "image/png": "[encoded data removed]"
     },
     "metadata": {},
     "output_type": "display_data"
    }
   ],
   "source": [
    "%%R\n",
    "\n",
    "ggqqplot(df_pi_summary, \"avg_pi\")+\n",
    "  facet_grid (genotype~protein)"
   ]
  },
  {
   "cell_type": "code",
   "execution_count": 38,
   "id": "79854657",
   "metadata": {},
   "outputs": [
    {
     "name": "stdout",
     "output_type": "stream",
     "text": [
      "# A tibble: 3 × 5\n",
      "  genotype   df1   df2 statistic     p\n",
      "  <chr>    <int> <int>     <dbl> <dbl>\n",
      "1 I           10    22     0.601 0.796\n",
      "2 K           10    22     0.640 0.764\n",
      "3 W           10    22     0.699 0.716\n"
     ]
    }
   ],
   "source": [
    "%%R \n",
    "\n",
    "library(rstatix)\n",
    "library(dplyr)\n",
    "df_pi_summary %>%\n",
    "  group_by(genotype) %>%\n",
    "  levene_test(avg_pi~protein)"
   ]
  },
  {
   "cell_type": "code",
   "execution_count": 39,
   "id": "c3f9a08c",
   "metadata": {},
   "outputs": [
    {
     "name": "stdout",
     "output_type": "stream",
     "text": [
      "`summarise()` has grouped output by 'genotype'. You can override using the\n",
      "`.groups` argument.\n",
      "   genotype protein  var(avg_pi)\n",
      "1         I      1A 9.872875e-09\n",
      "2         I      2A 1.702349e-09\n",
      "3         I      2B 6.323041e-09\n",
      "4         I      2C 2.304040e-10\n",
      "5         I      3A 3.847400e-09\n",
      "6         I      3C 1.368075e-10\n",
      "7         I    RdRp 1.721629e-09\n",
      "8         I     VP1 1.904604e-09\n",
      "9         I     VP2 1.512495e-08\n",
      "10        I     VP3 2.048185e-09\n",
      "11        I     VP4 1.754014e-08\n",
      "12        K      1A 7.719653e-09\n",
      "13        K      2A 1.258634e-08\n",
      "14        K      2B 1.929576e-11\n",
      "15        K      2C 5.363527e-10\n",
      "16        K      3A 6.739091e-09\n",
      "17        K      3C 2.903538e-10\n",
      "18        K    RdRp 2.271524e-09\n",
      "19        K     VP1 1.018733e-09\n",
      "20        K     VP2 1.371678e-08\n",
      "21        K     VP3 2.075725e-09\n",
      "22        K     VP4 1.728337e-09\n",
      "23        W      1A 6.291173e-09\n",
      "24        W      2A 6.256075e-08\n",
      "25        W      2B 1.947042e-11\n",
      "26        W      2C 9.279722e-10\n",
      "27        W      3A 4.258394e-09\n",
      "28        W      3C 2.925237e-09\n",
      "29        W    RdRp 8.923878e-10\n",
      "30        W     VP1 9.962616e-10\n",
      "31        W     VP2 2.424289e-09\n",
      "32        W     VP3 4.102223e-09\n",
      "33        W     VP4 1.361559e-08\n"
     ]
    }
   ],
   "source": [
    "%%R \n",
    "\n",
    "df_pi_summary %>%\n",
    "  group_by(genotype, protein) %>%\n",
    "  summarise(var(avg_pi)) %>%\n",
    "  as.data.frame()"
   ]
  },
  {
   "cell_type": "code",
   "execution_count": 40,
   "id": "40f11508",
   "metadata": {},
   "outputs": [
    {
     "name": "stdout",
     "output_type": "stream",
     "text": [
      "# A tibble: 1 × 4\n",
      "  statistic p.value parameter method                                            \n",
      "      <dbl>   <dbl>     <dbl> <chr>                                             \n",
      "1      1.33   0.514         2 Box's M-test for Homogeneity of Covariance Matric…\n"
     ]
    }
   ],
   "source": [
    "%%R \n",
    "\n",
    "box_m(df_pi_summary[ \"avg_pi\"], df_pi_summary$genotype)"
   ]
  },
  {
   "cell_type": "code",
   "execution_count": 41,
   "id": "41b3941d",
   "metadata": {},
   "outputs": [
    {
     "name": "stdout",
     "output_type": "stream",
     "text": [
      "\n",
      "Error: rep\n",
      "          Df    Sum Sq   Mean Sq F value Pr(>F)\n",
      "Residuals  2 6.645e-08 3.323e-08               \n",
      "\n",
      "Error: rep:protein\n",
      "          Df    Sum Sq   Mean Sq F value   Pr(>F)    \n",
      "protein   10 4.342e-07 4.342e-08   13.62 7.25e-07 ***\n",
      "Residuals 20 6.380e-08 3.190e-09                     \n",
      "---\n",
      "Signif. codes:  0 ‘***’ 0.001 ‘**’ 0.01 ‘*’ 0.05 ‘.’ 0.1 ‘ ’ 1\n",
      "\n",
      "Error: Within\n",
      "                 Df    Sum Sq   Mean Sq F value Pr(>F)\n",
      "genotype          2 1.729e-08 8.643e-09   1.329  0.275\n",
      "genotype:protein 20 2.230e-08 1.115e-09   0.172  1.000\n",
      "Residuals        44 2.861e-07 6.503e-09               \n"
     ]
    }
   ],
   "source": [
    "%%R\n",
    "\n",
    "model <- aov(avg_pi ~ genotype * protein + Error(rep/protein), data = df_pi_summary)\n",
    "\n",
    "summary(model)\n"
   ]
  },
  {
   "cell_type": "code",
   "execution_count": 43,
   "id": "d39aefcd",
   "metadata": {},
   "outputs": [
    {
     "name": "stderr",
     "output_type": "stream",
     "text": [
      "R[write to console]: Note: re-fitting model with sum-to-zero contrasts\n",
      "\n",
      "R[write to console]: NOTE: Results may be misleading due to involvement in interactions\n",
      "\n"
     ]
    },
    {
     "name": "stdout",
     "output_type": "stream",
     "text": [
      " contrast        estimate           SE df t.ratio p.value\n",
      " 2B - VP2   -2.234984e-04 2.661921e-05 20  -8.396  <.0001\n",
      " VP1 - VP2  -2.026448e-04 2.661921e-05 20  -7.613  <.0001\n",
      " 2C - VP2   -1.909305e-04 2.661921e-05 20  -7.173  <.0001\n",
      " 3C - VP2   -1.894309e-04 2.661921e-05 20  -7.116  <.0001\n",
      " 2B - 3A    -1.861319e-04 2.661921e-05 20  -6.992  <.0001\n",
      " VP2 - VP4   1.748386e-04 2.661921e-05 20   6.568  0.0001\n",
      " 3A - VP1    1.652784e-04 2.661921e-05 20   6.209  0.0002\n",
      " 2C - 3A    -1.535641e-04 2.661921e-05 20  -5.769  0.0005\n",
      " 3A - 3C     1.520645e-04 2.661921e-05 20   5.713  0.0005\n",
      " 1A - VP2   -1.467005e-04 2.661921e-05 20  -5.511  0.0008\n",
      " 3A - VP4    1.374722e-04 2.661921e-05 20   5.164  0.0018\n",
      " VP2 - VP3   1.249498e-04 2.661921e-05 20   4.694  0.0050\n",
      " 2A - VP2   -1.232598e-04 2.661921e-05 20  -4.630  0.0058\n",
      " RdRp - VP2 -1.196422e-04 2.661921e-05 20  -4.495  0.0078\n",
      " 1A - 3A    -1.093341e-04 2.661921e-05 20  -4.107  0.0178\n",
      " 2B - RdRp  -1.038561e-04 2.661921e-05 20  -3.902  0.0276\n",
      " 2A - 2B     1.002385e-04 2.661921e-05 20   3.766  0.0365\n",
      " 2B - VP3   -9.854859e-05 2.661921e-05 20  -3.702  0.0416\n",
      "\n",
      "Results are averaged over the levels of: genotype \n",
      "P value adjustment: tukey method for comparing a family of 11 estimates \n"
     ]
    }
   ],
   "source": [
    "%%R \n",
    "\n",
    "library(emmeans)\n",
    "\n",
    "# Assuming your contrasts are stored in a data frame called 'contrasts'\n",
    "# If not, first convert the emmeans output to a data frame\n",
    "contrasts_df <- as.data.frame(pairs(emmeans(model, ~ protein)))\n",
    "\n",
    "# Filter significant contrasts\n",
    "significant_contrasts <- contrasts_df[contrasts_df$p.value < 0.05, ]\n",
    "\n",
    "# Sort by p-value\n",
    "significant_contrasts <- significant_contrasts[order(significant_contrasts$p.value), ]\n",
    "\n",
    "# Display results\n",
    "print(significant_contrasts)"
   ]
  },
  {
   "cell_type": "code",
   "execution_count": null,
   "id": "ac635a23",
   "metadata": {},
   "outputs": [],
   "source": []
  }
 ],
 "metadata": {
  "kernelspec": {
   "display_name": "Python 3 (ipykernel)",
   "language": "python",
   "name": "python3"
  },
  "language_info": {
   "codemirror_mode": {
    "name": "ipython",
    "version": 3
   },
   "file_extension": ".py",
   "mimetype": "text/x-python",
   "name": "python",
   "nbconvert_exporter": "python",
   "pygments_lexer": "ipython3",
   "version": "3.9.0"
  }
 },
 "nbformat": 4,
 "nbformat_minor": 5
}
