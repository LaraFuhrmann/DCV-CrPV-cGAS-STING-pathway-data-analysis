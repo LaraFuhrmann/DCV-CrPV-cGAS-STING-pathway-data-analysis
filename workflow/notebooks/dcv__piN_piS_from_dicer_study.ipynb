{
 "cells": [
  {
   "cell_type": "code",
   "execution_count": 111,
   "id": "2305a736",
   "metadata": {},
   "outputs": [],
   "source": [
    "import pandas as pd\n",
    "import seaborn as sns\n",
    "import matplotlib.pyplot as plt\n",
    "import matplotlib.ticker as ticker  # Import the ticker module"
   ]
  },
  {
   "cell_type": "code",
   "execution_count": 112,
   "id": "591cf418",
   "metadata": {},
   "outputs": [],
   "source": [
    "our_color_palette = {\"WT\": \"#F2C14E\", # yellow\n",
    "                     \"W\": \"#F2C14E\", # yellow\n",
    "                     \"IP\": \"#79ADDC\", # blue\n",
    "                     \"I\": \"#79ADDC\", # blue\n",
    "                     \"KO\": \"#B279A7\", # purple\n",
    "                     \"K\": \"#B279A7\", # purple\n",
    "                    } \n",
    "treatments_list = [\"W\", \"I\", \"K\"]\n",
    "passages_list = [\"p1\", \"p2\", \"p3\", \"p5\", \"p10\"]\n",
    "replicates_list = ['a', 'b', 'c']"
   ]
  },
  {
   "cell_type": "markdown",
   "id": "16d4bf1a",
   "metadata": {},
   "source": [
    "## load diversity for cgamp-sting study"
   ]
  },
  {
   "cell_type": "code",
   "execution_count": 113,
   "id": "1290d762",
   "metadata": {},
   "outputs": [],
   "source": [
    "df = pd.read_csv('../../results_summary/all_snpgenie_population_summary.csv')\n",
    "\n",
    "df['genotype'] = df['passage'].str.split(\"_\").str[0]\n",
    "df['rep'] = df['passage'].str.split(\"_\").str[-1]\n",
    "df['passage'] = df['passage'].str.split(\"_\").str[1].str.split('p').str[-1].astype(float)\n",
    "\n",
    "df = df[df['virus']=='DCV']"
   ]
  },
  {
   "cell_type": "code",
   "execution_count": 114,
   "id": "5888e0c3",
   "metadata": {},
   "outputs": [],
   "source": [
    "# get parental values\n",
    "p0_dcv_pi = df[(df['genotype']=='parental') & (df['virus']=='DCV') ]['pi'].values[0]"
   ]
  },
  {
   "cell_type": "code",
   "execution_count": 115,
   "id": "4cc19c6f",
   "metadata": {},
   "outputs": [],
   "source": [
    "df.loc[df['genotype']=='parental', 'genotype'] ='W'"
   ]
  },
  {
   "cell_type": "code",
   "execution_count": 116,
   "id": "e94c9f28",
   "metadata": {},
   "outputs": [],
   "source": [
    "df = df[['pi','genotype','rep','passage']]"
   ]
  },
  {
   "cell_type": "markdown",
   "id": "402014aa",
   "metadata": {},
   "source": [
    "## load numbers from dicer study"
   ]
  },
  {
   "cell_type": "code",
   "execution_count": 117,
   "id": "3fac1b29",
   "metadata": {},
   "outputs": [],
   "source": [
    "df_dicer = pd.read_csv('../../results_summary/dcv_dicer_study_WT_snpgenie_population_summary.csv')\n",
    "df_dicer = df_dicer[df_dicer['genotype']=='wild_type']\n",
    "df_dicer['genotype'] = 'W'\n",
    "df_dicer['rep'] = df_dicer['replicate']\n",
    "\n",
    "map_passage = {\"passage_1\": -10, \"passage_5\": -5, \"passage_10\": -1}\n",
    "df_dicer['passage'] = df_dicer['passage'].apply(lambda x: map_passage[x])\n",
    "df_dicer = df_dicer[['pi','genotype','rep','passage']]"
   ]
  },
  {
   "cell_type": "code",
   "execution_count": 118,
   "id": "4ba1cfa8",
   "metadata": {},
   "outputs": [
    {
     "data": {
      "text/html": [
       "<div>\n",
       "<style scoped>\n",
       "    .dataframe tbody tr th:only-of-type {\n",
       "        vertical-align: middle;\n",
       "    }\n",
       "\n",
       "    .dataframe tbody tr th {\n",
       "        vertical-align: top;\n",
       "    }\n",
       "\n",
       "    .dataframe thead th {\n",
       "        text-align: right;\n",
       "    }\n",
       "</style>\n",
       "<table border=\"1\" class=\"dataframe\">\n",
       "  <thead>\n",
       "    <tr style=\"text-align: right;\">\n",
       "      <th></th>\n",
       "      <th>pi</th>\n",
       "      <th>genotype</th>\n",
       "      <th>rep</th>\n",
       "      <th>passage</th>\n",
       "    </tr>\n",
       "  </thead>\n",
       "  <tbody>\n",
       "    <tr>\n",
       "      <th>0</th>\n",
       "      <td>0.000112</td>\n",
       "      <td>W</td>\n",
       "      <td>replicate_c</td>\n",
       "      <td>-1</td>\n",
       "    </tr>\n",
       "    <tr>\n",
       "      <th>1</th>\n",
       "      <td>0.000177</td>\n",
       "      <td>W</td>\n",
       "      <td>replicate_b</td>\n",
       "      <td>-10</td>\n",
       "    </tr>\n",
       "    <tr>\n",
       "      <th>2</th>\n",
       "      <td>0.000399</td>\n",
       "      <td>W</td>\n",
       "      <td>replicate_e</td>\n",
       "      <td>-1</td>\n",
       "    </tr>\n",
       "    <tr>\n",
       "      <th>3</th>\n",
       "      <td>0.000281</td>\n",
       "      <td>W</td>\n",
       "      <td>replicate_a</td>\n",
       "      <td>-10</td>\n",
       "    </tr>\n",
       "    <tr>\n",
       "      <th>4</th>\n",
       "      <td>0.000080</td>\n",
       "      <td>W</td>\n",
       "      <td>replicate_c</td>\n",
       "      <td>-5</td>\n",
       "    </tr>\n",
       "    <tr>\n",
       "      <th>5</th>\n",
       "      <td>0.000190</td>\n",
       "      <td>W</td>\n",
       "      <td>replicate_a</td>\n",
       "      <td>-5</td>\n",
       "    </tr>\n",
       "    <tr>\n",
       "      <th>6</th>\n",
       "      <td>0.000307</td>\n",
       "      <td>W</td>\n",
       "      <td>replicate_d</td>\n",
       "      <td>-5</td>\n",
       "    </tr>\n",
       "    <tr>\n",
       "      <th>7</th>\n",
       "      <td>0.000097</td>\n",
       "      <td>W</td>\n",
       "      <td>replicate_d</td>\n",
       "      <td>-10</td>\n",
       "    </tr>\n",
       "    <tr>\n",
       "      <th>8</th>\n",
       "      <td>0.000396</td>\n",
       "      <td>W</td>\n",
       "      <td>replicate_e</td>\n",
       "      <td>-5</td>\n",
       "    </tr>\n",
       "    <tr>\n",
       "      <th>9</th>\n",
       "      <td>0.000132</td>\n",
       "      <td>W</td>\n",
       "      <td>replicate_a</td>\n",
       "      <td>-1</td>\n",
       "    </tr>\n",
       "    <tr>\n",
       "      <th>10</th>\n",
       "      <td>0.000091</td>\n",
       "      <td>W</td>\n",
       "      <td>replicate_b</td>\n",
       "      <td>-5</td>\n",
       "    </tr>\n",
       "    <tr>\n",
       "      <th>11</th>\n",
       "      <td>0.000276</td>\n",
       "      <td>W</td>\n",
       "      <td>replicate_e</td>\n",
       "      <td>-10</td>\n",
       "    </tr>\n",
       "    <tr>\n",
       "      <th>12</th>\n",
       "      <td>0.000253</td>\n",
       "      <td>W</td>\n",
       "      <td>replicate_d</td>\n",
       "      <td>-1</td>\n",
       "    </tr>\n",
       "    <tr>\n",
       "      <th>13</th>\n",
       "      <td>0.000242</td>\n",
       "      <td>W</td>\n",
       "      <td>replicate_b</td>\n",
       "      <td>-1</td>\n",
       "    </tr>\n",
       "    <tr>\n",
       "      <th>14</th>\n",
       "      <td>0.000205</td>\n",
       "      <td>W</td>\n",
       "      <td>replicate_c</td>\n",
       "      <td>-10</td>\n",
       "    </tr>\n",
       "  </tbody>\n",
       "</table>\n",
       "</div>"
      ],
      "text/plain": [
       "          pi genotype          rep  passage\n",
       "0   0.000112        W  replicate_c       -1\n",
       "1   0.000177        W  replicate_b      -10\n",
       "2   0.000399        W  replicate_e       -1\n",
       "3   0.000281        W  replicate_a      -10\n",
       "4   0.000080        W  replicate_c       -5\n",
       "5   0.000190        W  replicate_a       -5\n",
       "6   0.000307        W  replicate_d       -5\n",
       "7   0.000097        W  replicate_d      -10\n",
       "8   0.000396        W  replicate_e       -5\n",
       "9   0.000132        W  replicate_a       -1\n",
       "10  0.000091        W  replicate_b       -5\n",
       "11  0.000276        W  replicate_e      -10\n",
       "12  0.000253        W  replicate_d       -1\n",
       "13  0.000242        W  replicate_b       -1\n",
       "14  0.000205        W  replicate_c      -10"
      ]
     },
     "execution_count": 118,
     "metadata": {},
     "output_type": "execute_result"
    }
   ],
   "source": [
    "df_dicer"
   ]
  },
  {
   "cell_type": "markdown",
   "id": "bc253d0f",
   "metadata": {},
   "source": [
    "## merge dataframes"
   ]
  },
  {
   "cell_type": "code",
   "execution_count": 119,
   "id": "9f50056c",
   "metadata": {},
   "outputs": [],
   "source": [
    "df = pd.concat([df, df_dicer])"
   ]
  },
  {
   "cell_type": "markdown",
   "id": "c7f600ee",
   "metadata": {},
   "source": [
    "## plot"
   ]
  },
  {
   "cell_type": "code",
   "execution_count": 120,
   "id": "1e04c49b",
   "metadata": {},
   "outputs": [
    {
     "data": {
      "text/plain": [
       "array([  0.,   1.,   2.,   3.,   5.,  10.,  -1., -10.,  -5.])"
      ]
     },
     "execution_count": 120,
     "metadata": {},
     "output_type": "execute_result"
    }
   ],
   "source": [
    "df['passage'].unique()"
   ]
  },
  {
   "cell_type": "code",
   "execution_count": 86,
   "id": "6d18d4e3",
   "metadata": {},
   "outputs": [
    {
     "data": {
      "image/png": "[encoded data removed]",
      "text/plain": [
       "<Figure size 432x360 with 1 Axes>"
      ]
     },
     "metadata": {},
     "output_type": "display_data"
    }
   ],
   "source": [
    "sns.set(rc={'figure.figsize':(6,5)})\n",
    "sns.set_style('white')\n",
    "\n",
    "g = sns.lineplot(df, \n",
    "                x='passage', \n",
    "                y='pi', \n",
    "                hue='genotype', \n",
    "                marker='o', \n",
    "                err_style=\"bars\",\n",
    "                #linestyle='--',\n",
    "                #dodge=0.25,\n",
    "                errorbar='se',\n",
    "                err_kws={\"elinewidth\": 1., \"capsize\": 2.5},\n",
    "                #errwidth=1.1, \n",
    "                #capsize=0.1,\n",
    "                palette=our_color_palette, \n",
    "                )\n",
    "\n",
    "plt.xlim(df['passage'].min()-0.5, df['passage'].max()+0.5)\n",
    "plt.xticks(sorted(df['passage'].unique()))\n",
    "\n",
    "\n",
    "plt.show()\n",
    "\n",
    "g.figure.savefig(\"/Users/lfuhrmann/Downloads/dcv_pi.pdf\")"
   ]
  },
  {
   "cell_type": "markdown",
   "id": "79c342f4",
   "metadata": {},
   "source": [
    "## check for pis and piN "
   ]
  },
  {
   "cell_type": "code",
   "execution_count": 121,
   "id": "08aac598",
   "metadata": {},
   "outputs": [],
   "source": [
    "df_dicer = pd.read_csv(\"../../results_summary/dcv_dicer_study_WT_snpgenie_codon_results.csv\")\n",
    "df_dicer = df_dicer[df_dicer['genotype']=='wild_type']\n",
    "df_dicer['genotype'] = 'W'\n",
    "df_dicer['rep'] = df_dicer['replicate']\n",
    "df_dicer['passage'] = df_dicer['passage'].apply(lambda x: map_passage[x])\n",
    "df_dicer = df_dicer[['S_diffs', 'N_diffs', 'S_sites', 'N_sites', 'genotype','rep','passage']]"
   ]
  },
  {
   "cell_type": "code",
   "execution_count": 122,
   "id": "474fb081",
   "metadata": {},
   "outputs": [],
   "source": [
    "fname = \"../../results_summary/all_snpgenie_codon_results.csv\"\n",
    "df = pd.read_csv(fname)\n",
    "\n",
    "df = df[df['virus']=='DCV']\n",
    "\n",
    "df['genotype'] = df['passage'].str.split(\"_\").str[0]\n",
    "df['rep'] = df['passage'].str.split(\"_\").str[-1]\n",
    "df['passage'] = df['passage'].str.split(\"_\").str[1].str.split(\"p\").str[-1].astype(int)\n",
    "df.loc[df['genotype']=='parental', 'genotype'] ='W'\n",
    "\n",
    "df = df[['S_diffs', 'N_diffs', 'S_sites', 'N_sites', 'genotype','rep','passage']]"
   ]
  },
  {
   "cell_type": "code",
   "execution_count": 123,
   "id": "fb4e4d79",
   "metadata": {},
   "outputs": [],
   "source": [
    "# merge dataframes \n",
    "\n",
    "df = pd.concat([df, df_dicer])"
   ]
  },
  {
   "cell_type": "code",
   "execution_count": 124,
   "id": "60294a51",
   "metadata": {},
   "outputs": [],
   "source": [
    "# per codon measurement\n",
    "\n",
    "# piS: The mean number of pairwise synonymous differences per synonymous site in this product.\n",
    "df['piS'] = df['S_diffs']/df['S_sites']\n",
    "\n",
    "# piN: The mean number of pairwise nonsynonymous differences per nonsynonymous site in this product.\n",
    "df['piN'] = df['N_diffs']/df['N_sites']"
   ]
  },
  {
   "cell_type": "code",
   "execution_count": 125,
   "id": "722dfefc",
   "metadata": {},
   "outputs": [],
   "source": [
    "df = df.groupby(by=['genotype', 'rep', 'passage']).mean().reset_index()\n",
    "df = df[['genotype', 'rep', 'passage', 'piS', 'piN']]"
   ]
  },
  {
   "cell_type": "code",
   "execution_count": 126,
   "id": "bfa3e6db",
   "metadata": {},
   "outputs": [],
   "source": [
    "df_long= pd.wide_to_long(df, \n",
    "                        stubnames=\"pi\",\n",
    "                                      i=[\"genotype\", \"passage\", \"rep\"],\n",
    "                                      j=\"type\",\n",
    "                                      suffix=\"\\D+\",).reset_index()"
   ]
  },
  {
   "cell_type": "code",
   "execution_count": 127,
   "id": "a8f3f95f",
   "metadata": {},
   "outputs": [
    {
     "data": {
      "text/html": [
       "<div>\n",
       "<style scoped>\n",
       "    .dataframe tbody tr th:only-of-type {\n",
       "        vertical-align: middle;\n",
       "    }\n",
       "\n",
       "    .dataframe tbody tr th {\n",
       "        vertical-align: top;\n",
       "    }\n",
       "\n",
       "    .dataframe thead th {\n",
       "        text-align: right;\n",
       "    }\n",
       "</style>\n",
       "<table border=\"1\" class=\"dataframe\">\n",
       "  <thead>\n",
       "    <tr style=\"text-align: right;\">\n",
       "      <th></th>\n",
       "      <th>genotype</th>\n",
       "      <th>passage</th>\n",
       "      <th>rep</th>\n",
       "      <th>type</th>\n",
       "      <th>pi</th>\n",
       "    </tr>\n",
       "  </thead>\n",
       "  <tbody>\n",
       "    <tr>\n",
       "      <th>0</th>\n",
       "      <td>I</td>\n",
       "      <td>1</td>\n",
       "      <td>a</td>\n",
       "      <td>S</td>\n",
       "      <td>0.000532</td>\n",
       "    </tr>\n",
       "    <tr>\n",
       "      <th>1</th>\n",
       "      <td>I</td>\n",
       "      <td>1</td>\n",
       "      <td>a</td>\n",
       "      <td>N</td>\n",
       "      <td>0.000069</td>\n",
       "    </tr>\n",
       "    <tr>\n",
       "      <th>2</th>\n",
       "      <td>I</td>\n",
       "      <td>2</td>\n",
       "      <td>a</td>\n",
       "      <td>S</td>\n",
       "      <td>0.000457</td>\n",
       "    </tr>\n",
       "    <tr>\n",
       "      <th>3</th>\n",
       "      <td>I</td>\n",
       "      <td>2</td>\n",
       "      <td>a</td>\n",
       "      <td>N</td>\n",
       "      <td>0.000082</td>\n",
       "    </tr>\n",
       "    <tr>\n",
       "      <th>4</th>\n",
       "      <td>I</td>\n",
       "      <td>3</td>\n",
       "      <td>a</td>\n",
       "      <td>S</td>\n",
       "      <td>0.000543</td>\n",
       "    </tr>\n",
       "    <tr>\n",
       "      <th>...</th>\n",
       "      <td>...</td>\n",
       "      <td>...</td>\n",
       "      <td>...</td>\n",
       "      <td>...</td>\n",
       "      <td>...</td>\n",
       "    </tr>\n",
       "    <tr>\n",
       "      <th>115</th>\n",
       "      <td>W</td>\n",
       "      <td>-10</td>\n",
       "      <td>replicate_e</td>\n",
       "      <td>N</td>\n",
       "      <td>0.000304</td>\n",
       "    </tr>\n",
       "    <tr>\n",
       "      <th>116</th>\n",
       "      <td>W</td>\n",
       "      <td>-5</td>\n",
       "      <td>replicate_e</td>\n",
       "      <td>S</td>\n",
       "      <td>0.000625</td>\n",
       "    </tr>\n",
       "    <tr>\n",
       "      <th>117</th>\n",
       "      <td>W</td>\n",
       "      <td>-5</td>\n",
       "      <td>replicate_e</td>\n",
       "      <td>N</td>\n",
       "      <td>0.000466</td>\n",
       "    </tr>\n",
       "    <tr>\n",
       "      <th>118</th>\n",
       "      <td>W</td>\n",
       "      <td>-1</td>\n",
       "      <td>replicate_e</td>\n",
       "      <td>S</td>\n",
       "      <td>0.000646</td>\n",
       "    </tr>\n",
       "    <tr>\n",
       "      <th>119</th>\n",
       "      <td>W</td>\n",
       "      <td>-1</td>\n",
       "      <td>replicate_e</td>\n",
       "      <td>N</td>\n",
       "      <td>0.000464</td>\n",
       "    </tr>\n",
       "  </tbody>\n",
       "</table>\n",
       "<p>120 rows × 5 columns</p>\n",
       "</div>"
      ],
      "text/plain": [
       "    genotype  passage          rep type        pi\n",
       "0          I        1            a    S  0.000532\n",
       "1          I        1            a    N  0.000069\n",
       "2          I        2            a    S  0.000457\n",
       "3          I        2            a    N  0.000082\n",
       "4          I        3            a    S  0.000543\n",
       "..       ...      ...          ...  ...       ...\n",
       "115        W      -10  replicate_e    N  0.000304\n",
       "116        W       -5  replicate_e    S  0.000625\n",
       "117        W       -5  replicate_e    N  0.000466\n",
       "118        W       -1  replicate_e    S  0.000646\n",
       "119        W       -1  replicate_e    N  0.000464\n",
       "\n",
       "[120 rows x 5 columns]"
      ]
     },
     "execution_count": 127,
     "metadata": {},
     "output_type": "execute_result"
    }
   ],
   "source": [
    "df_long"
   ]
  },
  {
   "cell_type": "code",
   "execution_count": 128,
   "id": "44211ce2",
   "metadata": {},
   "outputs": [
    {
     "data": {
      "image/png": "[encoded data removed]",
      "text/plain": [
       "<Figure size 407.6x360 with 1 Axes>"
      ]
     },
     "metadata": {},
     "output_type": "display_data"
    }
   ],
   "source": [
    "sns.set(rc={'figure.figsize':(6,5)})\n",
    "sns.set_style('white')\n",
    "\n",
    "g = sns.relplot(df_long[df_long['genotype']=='W'], \n",
    "                x='passage',\n",
    "                kind='line',\n",
    "                #col='genotype', \n",
    "                y='pi', \n",
    "                hue='type', \n",
    "                marker='d', \n",
    "                err_style=\"bars\",\n",
    "                #linestyle='--',\n",
    "                #dodge=0.25,\n",
    "                errorbar='se',\n",
    "                err_kws={\"elinewidth\": 1., \"capsize\": 2.5},\n",
    "                #errwidth=1.1, \n",
    "                #capsize=0.1,\n",
    "                palette={\"S\": '#03045e', \"N\": '#d62828'}, \n",
    "                legend=True, \n",
    "                )\n",
    "\n",
    "# Add plot for 'IP' genotype (dashed lines)\n",
    "sns.lineplot(data=df_long[df_long['genotype']=='I'],\n",
    "             x='passage',\n",
    "             y='pi',\n",
    "             hue='type',\n",
    "             linestyle='--',\n",
    "             err_style=\"bars\",\n",
    "             errorbar='se',\n",
    "            err_kws={\"elinewidth\": 1., \"capsize\": 2.5},\n",
    "             marker='D',\n",
    "             palette={\"S\": '#03045e', \"N\": '#d62828'}, \n",
    "             ax=g.ax)\n",
    "\n",
    "# Add plot for 'IP' genotype (dashed lines)\n",
    "sns.lineplot(data=df_long[df_long['genotype']=='K'],\n",
    "             x='passage',\n",
    "             y='pi',\n",
    "             hue='type',\n",
    "             err_style=\"bars\",\n",
    "             errorbar='se',\n",
    "            err_kws={\"elinewidth\": 1., \"capsize\": 2.5},\n",
    "             linestyle=':',\n",
    "             marker='>',\n",
    "             palette={\"S\": '#03045e', \"N\": '#d62828'}, \n",
    "             ax=g.ax)\n",
    "\n",
    "plt.xlim(df['passage'].min()-0.5, df['passage'].max()+0.5)\n",
    "plt.xticks(sorted(df['passage'].unique()))\n",
    "\n",
    "# Adjust legend to show both solid and dashed lines\n",
    "handles, labels = g.ax.get_legend_handles_labels()\n",
    "g.ax.legend(handles, labels, title='Type and Genotype')\n",
    "\n",
    "plt.show()\n",
    "\n",
    "g.figure.savefig(\"/Users/lfuhrmann/Downloads/dcv_pi.legend.pdf\")"
   ]
  },
  {
   "cell_type": "code",
   "execution_count": 97,
   "id": "e6a0b788",
   "metadata": {},
   "outputs": [
    {
     "data": {
      "image/png": "[encoded data removed]",
      "text/plain": [
       "<Figure size 360x720 with 2 Axes>"
      ]
     },
     "metadata": {},
     "output_type": "display_data"
    }
   ],
   "source": [
    "sns.set(rc={'figure.figsize':(6,10)})\n",
    "sns.set_style('white')\n",
    "\n",
    "g = sns.relplot(df_long, \n",
    "                x='passage',\n",
    "                kind='line',\n",
    "                row='type', \n",
    "                y='pi', \n",
    "                hue='genotype', \n",
    "                marker='o', \n",
    "                #linestyles='-',\n",
    "                errorbar='se',\n",
    "                err_style=\"bars\",\n",
    "                err_kws={\"elinewidth\": 1., \"capsize\": 2.5},\n",
    "                palette=our_color_palette, \n",
    "                alpha=0.7, \n",
    "                legend=False, \n",
    "                )\n",
    "\n",
    "plt.xlim(df['passage'].min()-0.5, df['passage'].max()+0.5)\n",
    "plt.xticks(sorted(df['passage'].unique()))\n",
    "\n",
    "\n",
    "plt.show()\n",
    "\n",
    "g.figure.savefig(\"/Users/lfuhrmann/Downloads/dcv_piS_piN.pdf\")\n"
   ]
  },
  {
   "cell_type": "code",
   "execution_count": null,
   "id": "b3940853",
   "metadata": {},
   "outputs": [],
   "source": []
  }
 ],
 "metadata": {
  "kernelspec": {
   "display_name": "Python 3 (ipykernel)",
   "language": "python",
   "name": "python3"
  },
  "language_info": {
   "codemirror_mode": {
    "name": "ipython",
    "version": 3
   },
   "file_extension": ".py",
   "mimetype": "text/x-python",
   "name": "python",
   "nbconvert_exporter": "python",
   "pygments_lexer": "ipython3",
   "version": "3.9.0"
  }
 },
 "nbformat": 4,
 "nbformat_minor": 5
}
