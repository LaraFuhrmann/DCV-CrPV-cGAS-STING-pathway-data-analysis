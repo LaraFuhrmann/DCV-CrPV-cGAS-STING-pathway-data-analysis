{
 "cells": [
  {
   "cell_type": "code",
   "execution_count": 15,
   "id": "5fde0df3",
   "metadata": {},
   "outputs": [],
   "source": [
    "import pandas as pd\n",
    "import seaborn as sns\n",
    "import matplotlib.pyplot as plt"
   ]
  },
  {
   "cell_type": "code",
   "execution_count": 16,
   "id": "efd11f9b",
   "metadata": {},
   "outputs": [],
   "source": [
    "our_color_palette = {\"WT\": \"#F2C14E\", # yellow\n",
    "                     \"W\": \"#F2C14E\", # yellow\n",
    "                     \"IP\": \"#79ADDC\", # blue\n",
    "                     \"I\": \"#79ADDC\", # blue\n",
    "                     \"KO\": \"#B279A7\", # purple\n",
    "                     \"K\": \"#B279A7\", # purple\n",
    "                    } \n",
    "treatments_list = [\"W\", \"I\", \"K\"]\n",
    "passages_list = [\"p1\", \"p2\", \"p3\", \"p5\", \"p10\"]\n",
    "replicates_list = ['a', 'b', 'c']"
   ]
  },
  {
   "cell_type": "code",
   "execution_count": 17,
   "id": "240b59f1",
   "metadata": {},
   "outputs": [],
   "source": [
    "# define protein \n",
    "\n",
    "proteins = {'DCV' : {\n",
    "    \"1A\": (799, 1089),\n",
    "    \"2A\": (1092, 1161),\n",
    "    \"2B\": (1164, 1587),\n",
    "    \"2C\": (1590, 2901),\n",
    "    \"3A\": (2904, 3501),\n",
    "    \"3C\": (3504, 4422),\n",
    "    \"RdRp\": (4425, 6072),\n",
    "    \"VP2\": (6267, 7110),\n",
    "    \"VP4\": (7113, 7281),\n",
    "    \"VP3\": (7284, 8175),\n",
    "    \"VP1\": (8175, 8970),\n",
    "}, \n",
    "            'CrPV': {\n",
    "    \"1A\": (709, 1206),\n",
    "    \"2A\": (1207, 1278),\n",
    "    \"2B\": (1279, 1692),\n",
    "    \"2C\": (1693, 2925),\n",
    "    \"3A\": (2926, 3361),\n",
    "    \"3B\": (3364, 3432),\n",
    "    \"3C\": (3433, 4368),\n",
    "    \"RdRp\": (4369, 6022),\n",
    "    \"VP1\": (6217, 7065),\n",
    "    \"VP4\": (7066, 7236),\n",
    "    \"VP2\": (7237, 8121),\n",
    "    \"VP3\": (8122, 8902),\n",
    "}\n",
    "           }"
   ]
  },
  {
   "cell_type": "code",
   "execution_count": 18,
   "id": "e10d4132",
   "metadata": {},
   "outputs": [
    {
     "data": {
      "text/plain": [
       "0.050408885634077874"
      ]
     },
     "execution_count": 18,
     "metadata": {},
     "output_type": "execute_result"
    }
   ],
   "source": [
    "length_crpv = 9185\n",
    "length_coding = 8902 - 709\n",
    "protein_2B = proteins['CrPV']['2B'][1] - proteins['CrPV']['2B'][0]\n",
    "protein_2B/length_coding"
   ]
  },
  {
   "cell_type": "code",
   "execution_count": 19,
   "id": "85e66fee",
   "metadata": {},
   "outputs": [],
   "source": [
    "# load diveristy \n",
    "\n",
    "fname = \"../../results_summary/all_snpgenie_site_results.csv\"\n",
    "df = pd.read_csv(fname)"
   ]
  },
  {
   "cell_type": "code",
   "execution_count": 20,
   "id": "05a34601",
   "metadata": {},
   "outputs": [
    {
     "data": {
      "text/plain": [
       "dict_items([('1A', (709, 1206)), ('2A', (1207, 1278)), ('2B', (1279, 1692)), ('2C', (1693, 2925)), ('3A', (2926, 3361)), ('3B', (3364, 3432)), ('3C', (3433, 4368)), ('RdRp', (4369, 6022)), ('VP1', (6217, 7065)), ('VP4', (7066, 7236)), ('VP2', (7237, 8121)), ('VP3', (8122, 8902))])"
      ]
     },
     "execution_count": 20,
     "metadata": {},
     "output_type": "execute_result"
    }
   ],
   "source": [
    "proteins_virus.items()"
   ]
  },
  {
   "cell_type": "code",
   "execution_count": 21,
   "id": "538f08cb",
   "metadata": {},
   "outputs": [],
   "source": [
    "df_pis_protein = pd.DataFrame() \n",
    "\n",
    "for virus in ['CrPV']:\n",
    "    for sample in df['passage'].unique():\n",
    "        proteins_virus = proteins[virus]\n",
    "        for protein in proteins_virus.items():\n",
    "            protein_id = protein[0]\n",
    "            if protein_id == '2B':\n",
    "                protein_start = protein[1][0]\n",
    "                protein_end = protein[1][1]\n",
    "                protein_length = protein_end - protein_start\n",
    "\n",
    "                df_temp = df[df['virus']== virus]\n",
    "                df_temp = df_temp[df_temp['passage']==sample]\n",
    "                df_temp = df_temp[df_temp['site'].isin(list(range(protein_start,protein_end+1 )))]\n",
    "                avg_pi = df_temp['pi'].sum()/protein_length\n",
    "\n",
    "                mean_pis = {\n",
    "                            'virus': [virus], \n",
    "                            'sample': sample, \n",
    "                            'protein': protein_id,\n",
    "                            'avg_pi': avg_pi, \n",
    "                        }\n",
    "                df_pis_protein = pd.concat([pd.DataFrame(mean_pis),df_pis_protein], ignore_index=True)\n",
    "                \n",
    "                df_temp = df[df['virus']== virus]\n",
    "                df_temp = df_temp[df_temp['passage']==sample]\n",
    "                pos_list = list(range(protein_start,protein_end+1 ))\n",
    "                pos_list.remove(1323)\n",
    "                pos_list.remove(1363)\n",
    "                df_temp = df_temp[df_temp['site'].isin(pos_list)]\n",
    "                avg_pi = df_temp['pi'].sum()/protein_length\n",
    "\n",
    "                mean_pis = {\n",
    "                            'virus': [virus], \n",
    "                            'sample': sample, \n",
    "                            'protein': protein_id+\"-excl.1363&1323\",\n",
    "                            'avg_pi': avg_pi, \n",
    "                        }\n",
    "\n",
    "                df_pis_protein = pd.concat([pd.DataFrame(mean_pis),df_pis_protein], ignore_index=True)"
   ]
  },
  {
   "cell_type": "code",
   "execution_count": 22,
   "id": "9f843d4d",
   "metadata": {},
   "outputs": [
    {
     "data": {
      "text/html": [
       "<div>\n",
       "<style scoped>\n",
       "    .dataframe tbody tr th:only-of-type {\n",
       "        vertical-align: middle;\n",
       "    }\n",
       "\n",
       "    .dataframe tbody tr th {\n",
       "        vertical-align: top;\n",
       "    }\n",
       "\n",
       "    .dataframe thead th {\n",
       "        text-align: right;\n",
       "    }\n",
       "</style>\n",
       "<table border=\"1\" class=\"dataframe\">\n",
       "  <thead>\n",
       "    <tr style=\"text-align: right;\">\n",
       "      <th></th>\n",
       "      <th>virus</th>\n",
       "      <th>sample</th>\n",
       "      <th>protein</th>\n",
       "      <th>avg_pi</th>\n",
       "      <th>genotype</th>\n",
       "      <th>rep</th>\n",
       "      <th>passage</th>\n",
       "    </tr>\n",
       "  </thead>\n",
       "  <tbody>\n",
       "    <tr>\n",
       "      <th>0</th>\n",
       "      <td>CrPV</td>\n",
       "      <td>W_p10_c</td>\n",
       "      <td>2B-excl.1363&amp;1323</td>\n",
       "      <td>0.000124</td>\n",
       "      <td>W</td>\n",
       "      <td>c</td>\n",
       "      <td>10</td>\n",
       "    </tr>\n",
       "    <tr>\n",
       "      <th>1</th>\n",
       "      <td>CrPV</td>\n",
       "      <td>W_p10_c</td>\n",
       "      <td>2B</td>\n",
       "      <td>0.000372</td>\n",
       "      <td>W</td>\n",
       "      <td>c</td>\n",
       "      <td>10</td>\n",
       "    </tr>\n",
       "    <tr>\n",
       "      <th>2</th>\n",
       "      <td>CrPV</td>\n",
       "      <td>W_p5_c</td>\n",
       "      <td>2B-excl.1363&amp;1323</td>\n",
       "      <td>0.000195</td>\n",
       "      <td>W</td>\n",
       "      <td>c</td>\n",
       "      <td>5</td>\n",
       "    </tr>\n",
       "    <tr>\n",
       "      <th>3</th>\n",
       "      <td>CrPV</td>\n",
       "      <td>W_p5_c</td>\n",
       "      <td>2B</td>\n",
       "      <td>0.000195</td>\n",
       "      <td>W</td>\n",
       "      <td>c</td>\n",
       "      <td>5</td>\n",
       "    </tr>\n",
       "    <tr>\n",
       "      <th>4</th>\n",
       "      <td>CrPV</td>\n",
       "      <td>W_p5_b</td>\n",
       "      <td>2B-excl.1363&amp;1323</td>\n",
       "      <td>0.000227</td>\n",
       "      <td>W</td>\n",
       "      <td>b</td>\n",
       "      <td>5</td>\n",
       "    </tr>\n",
       "  </tbody>\n",
       "</table>\n",
       "</div>"
      ],
      "text/plain": [
       "  virus   sample            protein    avg_pi genotype rep  passage\n",
       "0  CrPV  W_p10_c  2B-excl.1363&1323  0.000124        W   c       10\n",
       "1  CrPV  W_p10_c                 2B  0.000372        W   c       10\n",
       "2  CrPV   W_p5_c  2B-excl.1363&1323  0.000195        W   c        5\n",
       "3  CrPV   W_p5_c                 2B  0.000195        W   c        5\n",
       "4  CrPV   W_p5_b  2B-excl.1363&1323  0.000227        W   b        5"
      ]
     },
     "execution_count": 22,
     "metadata": {},
     "output_type": "execute_result"
    }
   ],
   "source": [
    "df_pis_protein['genotype'] = df_pis_protein['sample'].str.split(\"_\").str[0]\n",
    "df_pis_protein['rep'] = df_pis_protein['sample'].str.split(\"_\").str[-1]\n",
    "df_pis_protein['passage'] = df_pis_protein['sample'].str.split(\"_\").str[1].str.split(\"p\").str[-1].astype(int)\n",
    "\n",
    "df_pis_protein.head()"
   ]
  },
  {
   "cell_type": "code",
   "execution_count": 23,
   "id": "026d7692",
   "metadata": {},
   "outputs": [
    {
     "data": {
      "text/plain": [
       "array(['W', 'I', 'K', 'parental'], dtype=object)"
      ]
     },
     "execution_count": 23,
     "metadata": {},
     "output_type": "execute_result"
    }
   ],
   "source": [
    "df_pis_protein['genotype'].unique()"
   ]
  },
  {
   "cell_type": "code",
   "execution_count": 24,
   "id": "9cf64f82",
   "metadata": {},
   "outputs": [
    {
     "data": {
      "text/html": [
       "<div>\n",
       "<style scoped>\n",
       "    .dataframe tbody tr th:only-of-type {\n",
       "        vertical-align: middle;\n",
       "    }\n",
       "\n",
       "    .dataframe tbody tr th {\n",
       "        vertical-align: top;\n",
       "    }\n",
       "\n",
       "    .dataframe thead th {\n",
       "        text-align: right;\n",
       "    }\n",
       "</style>\n",
       "<table border=\"1\" class=\"dataframe\">\n",
       "  <thead>\n",
       "    <tr style=\"text-align: right;\">\n",
       "      <th></th>\n",
       "      <th>virus</th>\n",
       "      <th>sample</th>\n",
       "      <th>protein</th>\n",
       "      <th>avg_pi</th>\n",
       "      <th>genotype</th>\n",
       "      <th>rep</th>\n",
       "      <th>passage</th>\n",
       "    </tr>\n",
       "  </thead>\n",
       "  <tbody>\n",
       "    <tr>\n",
       "      <th>90</th>\n",
       "      <td>CrPV</td>\n",
       "      <td>parental_p0_vs_p0</td>\n",
       "      <td>2B-excl.1363&amp;1323</td>\n",
       "      <td>0.000127</td>\n",
       "      <td>parental</td>\n",
       "      <td>p0</td>\n",
       "      <td>0</td>\n",
       "    </tr>\n",
       "    <tr>\n",
       "      <th>91</th>\n",
       "      <td>CrPV</td>\n",
       "      <td>parental_p0_vs_p0</td>\n",
       "      <td>2B</td>\n",
       "      <td>0.000127</td>\n",
       "      <td>parental</td>\n",
       "      <td>p0</td>\n",
       "      <td>0</td>\n",
       "    </tr>\n",
       "  </tbody>\n",
       "</table>\n",
       "</div>"
      ],
      "text/plain": [
       "   virus             sample            protein    avg_pi  genotype rep  \\\n",
       "90  CrPV  parental_p0_vs_p0  2B-excl.1363&1323  0.000127  parental  p0   \n",
       "91  CrPV  parental_p0_vs_p0                 2B  0.000127  parental  p0   \n",
       "\n",
       "    passage  \n",
       "90        0  \n",
       "91        0  "
      ]
     },
     "execution_count": 24,
     "metadata": {},
     "output_type": "execute_result"
    }
   ],
   "source": [
    "df_pis_protein[df_pis_protein['genotype']=='parental']"
   ]
  },
  {
   "cell_type": "code",
   "execution_count": 26,
   "id": "14e7e9b2",
   "metadata": {},
   "outputs": [
    {
     "name": "stderr",
     "output_type": "stream",
     "text": [
      "/var/folders/dw/8dl4p6h53cgcmk6cf_09v5f40000gr/T/ipykernel_44284/3580737562.py:1: FutureWarning: \n",
      "\n",
      "The `errwidth` parameter is deprecated. And will be removed in v0.15.0. Pass `err_kws={'linewidth': 2}` instead.\n",
      "\n",
      "  g = sns.catplot(\n"
     ]
    },
    {
     "data": {
      "image/png": "[encoded data removed]",
      "text/plain": [
       "<Figure size 818.325x360 with 2 Axes>"
      ]
     },
     "metadata": {
      "needs_background": "light"
     },
     "output_type": "display_data"
    }
   ],
   "source": [
    "g = sns.catplot(\n",
    "    data=df_pis_protein[df_pis_protein['genotype'] != 'parental'],\n",
    "    x='passage',\n",
    "    y='avg_pi',\n",
    "    hue='genotype',\n",
    "    col='protein',\n",
    "    dodge=0.3,\n",
    "    errorbar='se',\n",
    "    errwidth=2, \n",
    "    capsize=0.1,\n",
    "    palette=our_color_palette,\n",
    "    col_order=[\"2B\", \"2B-excl.1363&1323\"],\n",
    "    kind='point'\n",
    ")\n",
    "\n",
    "# Remove \"protein =\" from column titles\n",
    "g.set_titles(template=\"{col_name}\")\n",
    "\n",
    "# Change y-axis label\n",
    "g.set_axis_labels(\"Passage number\", \"CrPV: nucleotide diversity\")\n",
    "\n",
    "g.figure.savefig(f\"/Users/lfuhrmann/Downloads/2b_diveristy.pdf\")"
   ]
  },
  {
   "cell_type": "code",
   "execution_count": 37,
   "id": "41b3941d",
   "metadata": {},
   "outputs": [],
   "source": [
    "df_t = df_pis_protein[df_pis_protein['genotype'] != 'parental']"
   ]
  },
  {
   "cell_type": "code",
   "execution_count": 42,
   "id": "37c35b5d",
   "metadata": {},
   "outputs": [
    {
     "data": {
      "text/plain": [
       "0.0009859272872169223"
      ]
     },
     "execution_count": 42,
     "metadata": {},
     "output_type": "execute_result"
    }
   ],
   "source": [
    "df_t[(df_t['protein']==\"2B\") & (df_t['passage']==5)]['avg_pi'].mean()"
   ]
  },
  {
   "cell_type": "code",
   "execution_count": 43,
   "id": "fc9eb217",
   "metadata": {},
   "outputs": [
    {
     "data": {
      "text/plain": [
       "0.0006351283777740804"
      ]
     },
     "execution_count": 43,
     "metadata": {},
     "output_type": "execute_result"
    }
   ],
   "source": [
    "df_t[(df_t['protein']==\"2B-excl.1363&1323\") & (df_t['passage']==5)]['avg_pi'].mean()"
   ]
  },
  {
   "cell_type": "code",
   "execution_count": 44,
   "id": "330474b7",
   "metadata": {},
   "outputs": [
    {
     "data": {
      "text/plain": [
       "0.0007571930384539652"
      ]
     },
     "execution_count": 44,
     "metadata": {},
     "output_type": "execute_result"
    }
   ],
   "source": [
    "df_t[(df_t['protein']==\"2B\") & (df_t['passage']==10)]['avg_pi'].mean()"
   ]
  },
  {
   "cell_type": "code",
   "execution_count": 45,
   "id": "a901cc2f",
   "metadata": {},
   "outputs": [
    {
     "data": {
      "text/plain": [
       "0.0006088934974889853"
      ]
     },
     "execution_count": 45,
     "metadata": {},
     "output_type": "execute_result"
    }
   ],
   "source": [
    "df_t[(df_t['protein']==\"2B-excl.1363&1323\") & (df_t['passage']==10)]['avg_pi'].mean()"
   ]
  },
  {
   "cell_type": "code",
   "execution_count": null,
   "id": "0b2fee77",
   "metadata": {},
   "outputs": [],
   "source": []
  }
 ],
 "metadata": {
  "kernelspec": {
   "display_name": "Python 3 (ipykernel)",
   "language": "python",
   "name": "python3"
  },
  "language_info": {
   "codemirror_mode": {
    "name": "ipython",
    "version": 3
   },
   "file_extension": ".py",
   "mimetype": "text/x-python",
   "name": "python",
   "nbconvert_exporter": "python",
   "pygments_lexer": "ipython3",
   "version": "3.9.0"
  }
 },
 "nbformat": 4,
 "nbformat_minor": 5
}
